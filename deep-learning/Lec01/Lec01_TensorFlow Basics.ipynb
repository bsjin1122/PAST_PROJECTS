{
 "cells": [
  {
   "cell_type": "code",
   "execution_count": 1,
   "id": "cc9b8ce8",
   "metadata": {},
   "outputs": [],
   "source": [
    "import tensorflow as tf"
   ]
  },
  {
   "cell_type": "code",
   "execution_count": 2,
   "id": "64561d98",
   "metadata": {},
   "outputs": [],
   "source": [
    "hello = tf.constant(\"hello, TensorFlow!\")"
   ]
  },
  {
   "cell_type": "code",
   "execution_count": 10,
   "id": "12209203-198f-497b-b36f-1c938f1db49b",
   "metadata": {},
   "outputs": [
    {
     "name": "stdout",
     "output_type": "stream",
     "text": [
      "tf.Tensor(b'hello, TensorFlow!', shape=(), dtype=string)\n"
     ]
    }
   ],
   "source": [
    "print(hello)\n",
    "\n",
    "# 'b'는 Bytes 문자열이다.\\"
   ]
  },
  {
   "cell_type": "code",
   "execution_count": 11,
   "id": "3f7b0249-fd00-444e-a8db-c778665af602",
   "metadata": {},
   "outputs": [],
   "source": [
    "node1 = tf.constant(3.0, tf.float32)\n",
    "node2 = tf.constant(4.0)\n",
    "node3 = tf.add(node1, node2)"
   ]
  },
  {
   "cell_type": "code",
   "execution_count": 12,
   "id": "4c02130a-3def-4604-a2b1-248c08d13290",
   "metadata": {},
   "outputs": [
    {
     "name": "stdout",
     "output_type": "stream",
     "text": [
      "node1: Tensor(\"Const:0\", shape=(), dtype=float32) node2: Tensor(\"Const_1:0\", shape=(), dtype=float32)\n"
     ]
    }
   ],
   "source": [
    "print(\"node1:\", node1, \"node2:\", node2)"
   ]
  },
  {
   "cell_type": "code",
   "execution_count": 13,
   "id": "e8c637b9-8935-4ab1-b5ce-849d995c6815",
   "metadata": {},
   "outputs": [
    {
     "name": "stdout",
     "output_type": "stream",
     "text": [
      "node3:  Tensor(\"Add:0\", shape=(), dtype=float32)\n"
     ]
    }
   ],
   "source": [
    "print(\"node3: \", node3)"
   ]
  },
  {
   "cell_type": "code",
   "execution_count": 16,
   "id": "e8f8565c-9204-48e8-ba64-ec493987255e",
   "metadata": {},
   "outputs": [
    {
     "name": "stdout",
     "output_type": "stream",
     "text": [
      "7.0\n"
     ]
    }
   ],
   "source": [
    "# sess = tf.Session()을 사용할 수 없게 됨. \n",
    "\n",
    "with tf.compat.v1.Session() as sess:\n",
    "    node1 = tf.constant(3.0)\n",
    "    node2 = tf.constant(4.0)\n",
    "    node3 = node1+node2\n",
    "    print(sess.run(node3))\n",
    "    sess.close()"
   ]
  },
  {
   "cell_type": "markdown",
   "id": "53eef7de-e3b4-4773-b22b-815e58548054",
   "metadata": {},
   "source": [
    "1. 그래프를 우선 빌드하기\n",
    "2. Session (sess.run(op)) 통해서 그래프를 실행시킴\n",
    "3. 값들이 update 또는 return을 나누어져서 실행하면 된다고 이해하면 된다."
   ]
  },
  {
   "cell_type": "code",
   "execution_count": 17,
   "id": "44194cc5-3ff3-45bc-b3e2-9f2cc4b31642",
   "metadata": {},
   "outputs": [
    {
     "name": "stdout",
     "output_type": "stream",
     "text": [
      "Tensor(\"PartitionedCall:0\", shape=(2,), dtype=int32)\n"
     ]
    }
   ],
   "source": [
    "@tf.function\n",
    "def adder(a,b):\n",
    "    return a+b\n",
    "\n",
    "a = tf.constant([1,3])\n",
    "b = tf.constant([2,4])\n",
    "\n",
    "print(adder(a,b))"
   ]
  },
  {
   "cell_type": "code",
   "execution_count": 1,
   "id": "401339cd-f42b-4f6a-9d3f-92d53ed038f3",
   "metadata": {},
   "outputs": [
    {
     "name": "stdout",
     "output_type": "stream",
     "text": [
      "tf.Tensor(7.5, shape=(), dtype=float32)\n",
      "tf.Tensor([3. 7.], shape=(2,), dtype=float32)\n"
     ]
    }
   ],
   "source": [
    "import os\n",
    "import tensorflow as tf\n",
    "os.environ['TF_CPP_MIN_LOG_LEVEL'] = '2'\n",
    "\n",
    "a = tf.Variable(0, dtype=tf.float32, shape=tf.TensorShape(None))\n",
    "b = tf.Variable(0, dtype=tf.float32, shape=tf.TensorShape(None))\n",
    "\n",
    "@tf.function\n",
    "def forward(A, B):\n",
    "  a.assign(A)\n",
    "  b.assign(B)\n",
    "  return a+b\n",
    "\n",
    "print(forward(3, 4.5))\n",
    "print(forward([1, 3], [2, 4]))"
   ]
  },
  {
   "cell_type": "markdown",
   "id": "8720eeda-f62b-46f5-895e-9019ac298af6",
   "metadata": {},
   "source": [
    "그래프를 정의할 때 placehold라는 노드를 만들 수 있다. <p></p> \n",
    "placeholder를 sess.run(op, feed_dict=로 값을 넘겨준다.)"
   ]
  },
  {
   "cell_type": "code",
   "execution_count": 2,
   "id": "9517ef6d-4ddf-4046-b305-af366c952ee0",
   "metadata": {},
   "outputs": [
    {
     "name": "stdout",
     "output_type": "stream",
     "text": [
      "[3 7]\n"
     ]
    }
   ],
   "source": [
    "import numpy as np\n",
    "tensor1 = tf.constant([1, 3])\n",
    "tensor2 = tf.constant([2, 4])\n",
    "\n",
    "# 덧셈 수행\n",
    "result = tf.add(tensor1, tensor2)\n",
    "print(result.numpy())"
   ]
  },
  {
   "cell_type": "markdown",
   "id": "38da54c2-1bb1-4e39-a8b7-16feda6a1c6d",
   "metadata": {},
   "source": [
    "사용하지 않는 내용\n",
    "\n",
    "a = tf.placeholder(tf.float32)\n",
    "b = tf.placeholder(tf.float32)\n",
    "adder_node = a + b  # + provides a shortcut for tf.add(a, b)\n",
    "\n",
    "print(sess.run(adder_node, feed_dict={a: 3, b: 4.5}))\n",
    "print(sess.run(adder_node, feed_dict={a: [1,3], b: [2, 4]}))"
   ]
  },
  {
   "cell_type": "markdown",
   "id": "51d64749-d672-4118-875d-5aeb1fe20ab4",
   "metadata": {},
   "source": [
    "## Tensors\n",
    "는 이런 배열들을 말한다.\n",
    "\n",
    "## type, shape, rank 등을 유념하여 사용하며 쉽게 프로그램 할 수 있다.\n",
    "\n",
    "그래프를 먼저 설계, 그래프를 설계할 때 실행시키고, 이때 placeholder를 넘겨줄 수 있고, \n",
    "마지막에 값을 넘겨주거나 할 수 있다."
   ]
  }
 ],
 "metadata": {
  "kernelspec": {
   "display_name": "Python 3 (ipykernel)",
   "language": "python",
   "name": "python3"
  },
  "language_info": {
   "codemirror_mode": {
    "name": "ipython",
    "version": 3
   },
   "file_extension": ".py",
   "mimetype": "text/x-python",
   "name": "python",
   "nbconvert_exporter": "python",
   "pygments_lexer": "ipython3",
   "version": "3.10.9"
  }
 },
 "nbformat": 4,
 "nbformat_minor": 5
}
