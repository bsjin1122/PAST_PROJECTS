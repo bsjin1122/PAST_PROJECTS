{
  "nbformat": 4,
  "nbformat_minor": 0,
  "metadata": {
    "colab": {
      "provenance": [],
      "gpuType": "T4",
      "authorship_tag": "ABX9TyMIshc2EuVqO4Km6jveXekt",
      "include_colab_link": true
    },
    "kernelspec": {
      "name": "python3",
      "display_name": "Python 3"
    },
    "language_info": {
      "name": "python"
    },
    "accelerator": "GPU"
  },
  "cells": [
    {
      "cell_type": "markdown",
      "metadata": {
        "id": "view-in-github",
        "colab_type": "text"
      },
      "source": [
        "<a href=\"https://colab.research.google.com/github/bsjin1122/deep-learning/blob/main/part02/Untitled0.ipynb\" target=\"_parent\"><img src=\"https://colab.research.google.com/assets/colab-badge.svg\" alt=\"Open In Colab\"/></a>"
      ]
    },
    {
      "cell_type": "code",
      "execution_count": 1,
      "metadata": {
        "id": "F9JmlGjHT50u",
        "colab": {
          "base_uri": "https://localhost:8080/"
        },
        "outputId": "cdc09604-0129-42ed-8c31-a88eb2d4c72a"
      },
      "outputs": [
        {
          "output_type": "stream",
          "name": "stdout",
          "text": [
            "True\n"
          ]
        }
      ],
      "source": [
        "import tensorflow as tf\n",
        "\n",
        "print(tf.executing_eagerly())"
      ]
    },
    {
      "cell_type": "code",
      "source": [
        "a = 1\n",
        "b = 2\n",
        "c = tf.math.add(a, b)\n",
        "print(c)\n",
        "c.numpy()"
      ],
      "metadata": {
        "id": "7S-JwWShU2bk",
        "colab": {
          "base_uri": "https://localhost:8080/"
        },
        "outputId": "4fe017ec-32f6-4c1a-93a4-aa8aeb851f5f"
      },
      "execution_count": 5,
      "outputs": [
        {
          "output_type": "stream",
          "name": "stdout",
          "text": [
            "tf.Tensor(3, shape=(), dtype=int32)\n"
          ]
        },
        {
          "output_type": "execute_result",
          "data": {
            "text/plain": [
              "3"
            ]
          },
          "metadata": {},
          "execution_count": 5
        }
      ]
    },
    {
      "cell_type": "code",
      "source": [
        "a = tf.constant(1)\n",
        "b = tf.constant(2)\n",
        "print(\"a:\",a)\n",
        "print(\"b:\",b) # 32비트 정수형임을 확인할 수 있다."
      ],
      "metadata": {
        "colab": {
          "base_uri": "https://localhost:8080/"
        },
        "id": "Dv5bfwmVRt6O",
        "outputId": "aa20a8dc-055d-4696-969e-393f559a338b"
      },
      "execution_count": 7,
      "outputs": [
        {
          "output_type": "stream",
          "name": "stdout",
          "text": [
            "a: tf.Tensor(1, shape=(), dtype=int32)\n",
            "b: tf.Tensor(2, shape=(), dtype=int32)\n"
          ]
        }
      ]
    },
    {
      "cell_type": "code",
      "source": [
        "# 랭크 확인\n",
        "print(tf.rank(a))"
      ],
      "metadata": {
        "colab": {
          "base_uri": "https://localhost:8080/"
        },
        "id": "ffK2uJ4oW5Qs",
        "outputId": "4caaf96b-5964-4b7b-9510-30cbe83d4d17"
      },
      "execution_count": 8,
      "outputs": [
        {
          "output_type": "stream",
          "name": "stdout",
          "text": [
            "tf.Tensor(0, shape=(), dtype=int32)\n"
          ]
        }
      ]
    },
    {
      "cell_type": "code",
      "source": [
        "# 자료형 변환\n",
        "a= tf.cast(a, tf.float32)\n",
        "b= tf.cast(b, tf.float32)\n",
        "print(a.dtype)\n",
        "print(b.dtype)"
      ],
      "metadata": {
        "colab": {
          "base_uri": "https://localhost:8080/"
        },
        "id": "MFE9ATJCW9_j",
        "outputId": "1fe2d0f4-2b94-4278-a245-21e9373c436c"
      },
      "execution_count": 10,
      "outputs": [
        {
          "output_type": "stream",
          "name": "stdout",
          "text": [
            "<dtype: 'float32'>\n",
            "<dtype: 'float32'>\n"
          ]
        }
      ]
    },
    {
      "cell_type": "code",
      "source": [
        "# 덧셈\n",
        "c = tf.math.add(a, b)\n",
        "print(\"result: \", c)\n",
        "print(\"rank: \", tf.rank(c))"
      ],
      "metadata": {
        "colab": {
          "base_uri": "https://localhost:8080/"
        },
        "id": "Utwh3Gp0XEkL",
        "outputId": "fd56e1c5-14ae-47fc-ce78-3616b95b6b54"
      },
      "execution_count": 11,
      "outputs": [
        {
          "output_type": "stream",
          "name": "stdout",
          "text": [
            "result:  tf.Tensor(3.0, shape=(), dtype=float32)\n",
            "rank:  tf.Tensor(0, shape=(), dtype=int32)\n"
          ]
        }
      ]
    },
    {
      "cell_type": "code",
      "source": [
        "# 뺄셈\n",
        "print(tf.math.subtract(a,b))"
      ],
      "metadata": {
        "colab": {
          "base_uri": "https://localhost:8080/"
        },
        "id": "xwkoqHKwXU38",
        "outputId": "7fb9dbc1-c981-4a0a-a370-19e35e4c1b67"
      },
      "execution_count": 18,
      "outputs": [
        {
          "output_type": "stream",
          "name": "stdout",
          "text": [
            "tf.Tensor(-1.0, shape=(), dtype=float32)\n"
          ]
        }
      ]
    },
    {
      "cell_type": "code",
      "source": [
        "# 곱셈\n",
        "print(tf.math.multiply(a,b))"
      ],
      "metadata": {
        "colab": {
          "base_uri": "https://localhost:8080/"
        },
        "id": "WBIAcq1RbhBG",
        "outputId": "3091fd08-9b81-4556-f78f-6ecb1812473f"
      },
      "execution_count": 19,
      "outputs": [
        {
          "output_type": "stream",
          "name": "stdout",
          "text": [
            "tf.Tensor(2.0, shape=(), dtype=float32)\n"
          ]
        }
      ]
    },
    {
      "cell_type": "code",
      "source": [
        "# 나눗셈\n",
        "print(tf.math.divide(a,b))"
      ],
      "metadata": {
        "colab": {
          "base_uri": "https://localhost:8080/"
        },
        "id": "NVIrBFznblTC",
        "outputId": "b115a85f-4428-477a-fbd6-c3614586199f"
      },
      "execution_count": 20,
      "outputs": [
        {
          "output_type": "stream",
          "name": "stdout",
          "text": [
            "tf.Tensor(0.5, shape=(), dtype=float32)\n"
          ]
        }
      ]
    },
    {
      "cell_type": "code",
      "source": [
        "# 나눗셈(나머지)\n",
        "print(tf.math.mod(a,b))"
      ],
      "metadata": {
        "colab": {
          "base_uri": "https://localhost:8080/"
        },
        "id": "tPFnQBrgbpwC",
        "outputId": "1c4e1454-665a-44da-8b59-27099f508a5d"
      },
      "execution_count": 21,
      "outputs": [
        {
          "output_type": "stream",
          "name": "stdout",
          "text": [
            "tf.Tensor(1.0, shape=(), dtype=float32)\n"
          ]
        }
      ]
    },
    {
      "cell_type": "code",
      "source": [
        "# 나눗셈(몫)\n",
        "print(tf.math.floordiv(a,b))"
      ],
      "metadata": {
        "colab": {
          "base_uri": "https://localhost:8080/"
        },
        "id": "JYPhT7r0bJpX",
        "outputId": "c0adab76-024f-4e0f-c1d0-c4c1b222563d"
      },
      "execution_count": 22,
      "outputs": [
        {
          "output_type": "stream",
          "name": "stdout",
          "text": [
            "tf.Tensor(0.0, shape=(), dtype=float32)\n"
          ]
        }
      ]
    },
    {
      "cell_type": "code",
      "source": [
        "import tensorflow as tf\n",
        "import numpy as np\n",
        "\n",
        "# 1차원 배열 정의\n",
        "py_list = [10., 20., 30.] #python list\n",
        "num_arr = np.array([10., 10., 10.]) # 넘파이 배열 활용\n",
        "\n",
        "# 텐서 변환\n",
        "vec1 = tf.constant(py_list, dtype=tf.float32)\n",
        "vec2 = tf.constant(num_arr, dtype=tf.float32)\n",
        "\n",
        "print(\"vec1: \", vec1)\n",
        "print(\"vec2: \", vec2)"
      ],
      "metadata": {
        "colab": {
          "base_uri": "https://localhost:8080/"
        },
        "id": "7Hk_p59AbB_L",
        "outputId": "ed22d2a4-42b6-45d6-c17f-28526ada350d"
      },
      "execution_count": 25,
      "outputs": [
        {
          "output_type": "stream",
          "name": "stdout",
          "text": [
            "vec1:  tf.Tensor([10. 20. 30.], shape=(3,), dtype=float32)\n",
            "vec2:  tf.Tensor([10. 10. 10.], shape=(3,), dtype=float32)\n"
          ]
        }
      ]
    },
    {
      "cell_type": "code",
      "source": [
        "# shape 속성은 (3,) 과 같이 1개의 축에 대해서만 크기가 표현. 1개의 축에 3개의 원소가 있다는 뜻이다.\n",
        "# 텐서로 변환된 뒤에도 원본 배열의 실수형 속성이 그대로 유지."
      ],
      "metadata": {
        "id": "vFwt3Bofgwm2"
      },
      "execution_count": 26,
      "outputs": []
    },
    {
      "cell_type": "code",
      "source": [
        "#랭크 확인\n",
        "print(tf.rank(vec1))\n",
        "print(tf.rank(vec2))"
      ],
      "metadata": {
        "colab": {
          "base_uri": "https://localhost:8080/"
        },
        "id": "6K6LjLDKbAd0",
        "outputId": "1af01a86-66b9-4efa-b35a-71d22732c635"
      },
      "execution_count": 27,
      "outputs": [
        {
          "output_type": "stream",
          "name": "stdout",
          "text": [
            "tf.Tensor(1, shape=(), dtype=int32)\n",
            "tf.Tensor(1, shape=(), dtype=int32)\n"
          ]
        }
      ]
    },
    {
      "cell_type": "code",
      "source": [
        "#덧셈함수\n",
        "add1 = tf.math.add(vec1, vec2)\n",
        "print(\"result:\", add1)\n",
        "print(\"rank: \", tf.rank(add1))"
      ],
      "metadata": {
        "colab": {
          "base_uri": "https://localhost:8080/"
        },
        "id": "F-u4V3EPa_CT",
        "outputId": "918a6189-c445-486b-b471-d841388ae293"
      },
      "execution_count": 29,
      "outputs": [
        {
          "output_type": "stream",
          "name": "stdout",
          "text": [
            "result: tf.Tensor([20. 30. 40.], shape=(3,), dtype=float32)\n",
            "rank:  tf.Tensor(1, shape=(), dtype=int32)\n"
          ]
        }
      ]
    },
    {
      "cell_type": "code",
      "source": [
        "# 덧셈 연산자\n",
        "add2 = vec1 + vec2\n",
        "print(\"result: \", add2)\n",
        "print(\"rank: \", tf.rank(add2))"
      ],
      "metadata": {
        "colab": {
          "base_uri": "https://localhost:8080/"
        },
        "id": "0Vir2npSa8TB",
        "outputId": "e8faa534-430d-4582-cd7c-385b99f4d0bc"
      },
      "execution_count": 30,
      "outputs": [
        {
          "output_type": "stream",
          "name": "stdout",
          "text": [
            "result:  tf.Tensor([20. 30. 40.], shape=(3,), dtype=float32)\n",
            "rank:  tf.Tensor(1, shape=(), dtype=int32)\n"
          ]
        }
      ]
    },
    {
      "cell_type": "code",
      "source": [
        "# tf.math 모듈 함수\n",
        "print(tf.math.subtract(vec1, vec2))\n",
        "print(tf.math.multiply(vec1, vec2))\n",
        "print(tf.math.divide(vec1, vec2))\n",
        "print(tf.math.mod(vec1, vec2))\n",
        "print(tf.math.floordiv(vec1, vec2))"
      ],
      "metadata": {
        "colab": {
          "base_uri": "https://localhost:8080/"
        },
        "id": "y2LHbynehpil",
        "outputId": "eb45982f-fb7d-4a30-a4c3-025e4fd50ab9"
      },
      "execution_count": 31,
      "outputs": [
        {
          "output_type": "stream",
          "name": "stdout",
          "text": [
            "tf.Tensor([ 0. 10. 20.], shape=(3,), dtype=float32)\n",
            "tf.Tensor([100. 200. 300.], shape=(3,), dtype=float32)\n",
            "tf.Tensor([1. 2. 3.], shape=(3,), dtype=float32)\n",
            "tf.Tensor([0. 0. 0.], shape=(3,), dtype=float32)\n",
            "tf.Tensor([1. 2. 3.], shape=(3,), dtype=float32)\n"
          ]
        }
      ]
    },
    {
      "cell_type": "code",
      "source": [
        "# 파이썬 연산자\n",
        "print(vec1 - vec2)\n",
        "print(vec1 * vec2)\n",
        "print(vec1 / vec2)\n",
        "print(vec1 % vec2)\n",
        "print(vec1 // vec2)"
      ],
      "metadata": {
        "colab": {
          "base_uri": "https://localhost:8080/"
        },
        "id": "ogguRXTsh-VM",
        "outputId": "1a788ad7-d7b4-4c1f-f50c-ee3d6b5d95c6"
      },
      "execution_count": 32,
      "outputs": [
        {
          "output_type": "stream",
          "name": "stdout",
          "text": [
            "tf.Tensor([ 0. 10. 20.], shape=(3,), dtype=float32)\n",
            "tf.Tensor([100. 200. 300.], shape=(3,), dtype=float32)\n",
            "tf.Tensor([1. 2. 3.], shape=(3,), dtype=float32)\n",
            "tf.Tensor([0. 0. 0.], shape=(3,), dtype=float32)\n",
            "tf.Tensor([1. 2. 3.], shape=(3,), dtype=float32)\n"
          ]
        }
      ]
    },
    {
      "cell_type": "code",
      "source": [
        "# 합계 구하기\n",
        "print ( tf.reduce_sum(vec1) )\n",
        "print ( tf.reduce_sum(vec2) )"
      ],
      "metadata": {
        "colab": {
          "base_uri": "https://localhost:8080/"
        },
        "id": "49yctgTdiAq8",
        "outputId": "8ad47c83-91a4-42f0-ff48-512bcb278eba"
      },
      "execution_count": 33,
      "outputs": [
        {
          "output_type": "stream",
          "name": "stdout",
          "text": [
            "tf.Tensor(60.0, shape=(), dtype=float32)\n",
            "tf.Tensor(30.0, shape=(), dtype=float32)\n"
          ]
        }
      ]
    },
    {
      "cell_type": "code",
      "source": [
        "# 거듭제곱\n",
        "print( tf.math.square(vec1) )"
      ],
      "metadata": {
        "colab": {
          "base_uri": "https://localhost:8080/"
        },
        "id": "xVchJNbWiQcc",
        "outputId": "fc79fde3-eecd-424d-d79b-b3fc9fde9062"
      },
      "execution_count": 34,
      "outputs": [
        {
          "output_type": "stream",
          "name": "stdout",
          "text": [
            "tf.Tensor([100. 400. 900.], shape=(3,), dtype=float32)\n"
          ]
        }
      ]
    },
    {
      "cell_type": "code",
      "source": [
        "# 거듭제곱 (파이썬 연산자)\n",
        "print( vec1**2 )"
      ],
      "metadata": {
        "colab": {
          "base_uri": "https://localhost:8080/"
        },
        "id": "vl-kuf13iSMs",
        "outputId": "e0cd3111-2952-437a-d429-98725f34fda2"
      },
      "execution_count": 35,
      "outputs": [
        {
          "output_type": "stream",
          "name": "stdout",
          "text": [
            "tf.Tensor([ 99.99999 400.      899.99994], shape=(3,), dtype=float32)\n"
          ]
        }
      ]
    },
    {
      "cell_type": "code",
      "source": [
        "# 브로드캐스팅 연산\n",
        "print (vec1 + 1)\n",
        "# 백터의 형태를 유지한 상태에서 각 원소에 1을 더하게 된다."
      ],
      "metadata": {
        "colab": {
          "base_uri": "https://localhost:8080/"
        },
        "id": "5Wzj5XrCiVOo",
        "outputId": "c9694eba-1666-4d5d-c4b4-dbfbb2b94157"
      },
      "execution_count": 36,
      "outputs": [
        {
          "output_type": "stream",
          "name": "stdout",
          "text": [
            "tf.Tensor([11. 21. 31.], shape=(3,), dtype=float32)\n"
          ]
        }
      ]
    },
    {
      "cell_type": "markdown",
      "source": [
        "## 행렬"
      ],
      "metadata": {
        "id": "K4Ibp_2qmmZi"
      }
    },
    {
      "cell_type": "code",
      "source": [
        "import tensorflow as tf\n",
        "\n",
        "list_of_list = [[10, 20], [30, 40]]\n",
        "\n",
        "# 텐서 변환 - constant 함수에 2차원 배열 입력\n",
        "mat1 = tf.constant(list_of_list)\n",
        "\n",
        "#랭크 확인\n",
        "print(\"rank: \", tf.rank(mat1))\n",
        "\n",
        "# 텐서 출력\n",
        "print(\"mat1:\",mat1)"
      ],
      "metadata": {
        "colab": {
          "base_uri": "https://localhost:8080/"
        },
        "id": "PxBX4MIwmrmn",
        "outputId": "71b98f1e-3a49-4abe-c4d8-b4144cec772a"
      },
      "execution_count": 2,
      "outputs": [
        {
          "output_type": "stream",
          "name": "stdout",
          "text": [
            "rank:  tf.Tensor(2, shape=(), dtype=int32)\n",
            "mat1: tf.Tensor(\n",
            "[[10 20]\n",
            " [30 40]], shape=(2, 2), dtype=int32)\n"
          ]
        }
      ]
    },
    {
      "cell_type": "code",
      "source": [
        "# 1차원 벡터 정의\n",
        "vec1 = tf.constant([1, 0])\n",
        "vec2 = tf.constant([-1, 2])\n",
        "\n",
        "# 텐서 변환 - stack 함수로 1차원 배열을 위아래로 쌓기\n",
        "mat2 = tf.stack([vec1, vec2])\n",
        "\n",
        "# 랭크 확인\n",
        "print(\"rank:\", tf.rank(mat2))\n",
        "\n",
        "# 텐서 출력하기\n",
        "print(\"mat2:\", mat2)"
      ],
      "metadata": {
        "colab": {
          "base_uri": "https://localhost:8080/"
        },
        "id": "ZG3mONopopeL",
        "outputId": "29b768b4-3602-4e51-db0f-566c0fe2c59e"
      },
      "execution_count": 3,
      "outputs": [
        {
          "output_type": "stream",
          "name": "stdout",
          "text": [
            "rank: tf.Tensor(2, shape=(), dtype=int32)\n",
            "mat2: tf.Tensor(\n",
            "[[ 1  0]\n",
            " [-1  2]], shape=(2, 2), dtype=int32)\n"
          ]
        }
      ]
    },
    {
      "cell_type": "code",
      "source": [
        "# element-by-element 연산\n",
        "element_mul = tf.math.multiply(mat1, mat2)\n",
        "print(\"result:\", element_mul)\n",
        "print(\"rank:\", tf.rank(element_mul))"
      ],
      "metadata": {
        "colab": {
          "base_uri": "https://localhost:8080/"
        },
        "id": "mf1ZuwHtpcrd",
        "outputId": "f591bb64-da5b-46b3-e800-088b53312880"
      },
      "execution_count": 4,
      "outputs": [
        {
          "output_type": "stream",
          "name": "stdout",
          "text": [
            "result: tf.Tensor(\n",
            "[[ 10   0]\n",
            " [-30  80]], shape=(2, 2), dtype=int32)\n",
            "rank: tf.Tensor(2, shape=(), dtype=int32)\n"
          ]
        }
      ]
    },
    {
      "cell_type": "code",
      "source": [
        "# 2차원 행렬에 스칼라 값인 3을 곱하면, 행렬의 모든 원소에 3을 곱하게 된다.\n",
        "# 브로드캐스팅 연산\n",
        "element_bc = tf.math.multiply(mat1, 3)\n",
        "print(\"result:\", element_bc)\n",
        "print(\"rank:\", tf.rank(element_bc))"
      ],
      "metadata": {
        "colab": {
          "base_uri": "https://localhost:8080/"
        },
        "id": "DvHBwqhEptfq",
        "outputId": "6c4b93b3-82cc-4cad-b403-800bef8516fb"
      },
      "execution_count": 5,
      "outputs": [
        {
          "output_type": "stream",
          "name": "stdout",
          "text": [
            "result: tf.Tensor(\n",
            "[[ 30  60]\n",
            " [ 90 120]], shape=(2, 2), dtype=int32)\n",
            "rank: tf.Tensor(2, shape=(), dtype=int32)\n"
          ]
        }
      ]
    },
    {
      "cell_type": "code",
      "source": [
        "# 행렬곱 연산\n",
        "mat_mul = tf.matmul(mat1, mat2)\n",
        "print(\"result:\", mat_mul)\n",
        "print(\"rank:\", tf.rank(mat_mul))"
      ],
      "metadata": {
        "colab": {
          "base_uri": "https://localhost:8080/"
        },
        "id": "If-ofcGCp_Dn",
        "outputId": "1fc85b52-646c-476a-d742-be60d906bbe0"
      },
      "execution_count": 6,
      "outputs": [
        {
          "output_type": "stream",
          "name": "stdout",
          "text": [
            "result: tf.Tensor(\n",
            "[[-10  40]\n",
            " [-10  80]], shape=(2, 2), dtype=int32)\n",
            "rank: tf.Tensor(2, shape=(), dtype=int32)\n"
          ]
        }
      ]
    },
    {
      "cell_type": "code",
      "source": [
        "# 덧셈 연산\n",
        "add1 = tf.math.add(mat1, mat2)\n",
        "print(\"result:\", add1)\n",
        "print(\"rank:\", tf.rank(add1))"
      ],
      "metadata": {
        "colab": {
          "base_uri": "https://localhost:8080/"
        },
        "id": "AzhsMdtvqIZt",
        "outputId": "13a1bdc2-d966-450a-c9c3-deff0d0870b2"
      },
      "execution_count": 7,
      "outputs": [
        {
          "output_type": "stream",
          "name": "stdout",
          "text": [
            "result: tf.Tensor(\n",
            "[[11 20]\n",
            " [29 42]], shape=(2, 2), dtype=int32)\n",
            "rank: tf.Tensor(2, shape=(), dtype=int32)\n"
          ]
        }
      ]
    },
    {
      "cell_type": "code",
      "source": [
        "# 덧셈 연산자\n",
        "add2 = mat1 + mat2\n",
        "print(\"result:\", add2)\n",
        "print(\"rank:\", tf.rank(add2))"
      ],
      "metadata": {
        "colab": {
          "base_uri": "https://localhost:8080/"
        },
        "id": "F3GuonRyqLnk",
        "outputId": "eb310910-05b2-473b-c1d4-a75d81560211"
      },
      "execution_count": 8,
      "outputs": [
        {
          "output_type": "stream",
          "name": "stdout",
          "text": [
            "result: tf.Tensor(\n",
            "[[11 20]\n",
            " [29 42]], shape=(2, 2), dtype=int32)\n",
            "rank: tf.Tensor(2, shape=(), dtype=int32)\n"
          ]
        }
      ]
    },
    {
      "cell_type": "code",
      "source": [
        "# 텐서를 넘파이 배열로 변환\n",
        "# nump() 메소드를 텐서 객체에 적용하면 된다.\n",
        "np_arr = mat_mul.numpy()\n",
        "print(type(np_arr))\n",
        "print(np_arr)"
      ],
      "metadata": {
        "colab": {
          "base_uri": "https://localhost:8080/"
        },
        "id": "ksuXvBMWqOlW",
        "outputId": "93c7c947-c226-4d17-ef89-f9eaed1b7436"
      },
      "execution_count": 9,
      "outputs": [
        {
          "output_type": "stream",
          "name": "stdout",
          "text": [
            "<class 'numpy.ndarray'>\n",
            "[[-10  40]\n",
            " [-10  80]]\n"
          ]
        }
      ]
    },
    {
      "cell_type": "markdown",
      "source": [
        "## 고차원 텐서\n",
        "- 1차원 벡터를 나열하면 2차원 행렬이 되고, 2차원 행렬을 나열하면 3차원 텐서가 된다."
      ],
      "metadata": {
        "id": "e46H_n4srcdV"
      }
    },
    {
      "cell_type": "code",
      "source": [
        "# 라이브러리 불러오기\n",
        "import tensorflow as tf\n",
        "import numpy as np\n",
        "\n",
        "# 2차원 배열 정의\n",
        "mat1 = [[1, 2, 3, 4],\n",
        "        [5, 6, 7, 8]]\n",
        "\n",
        "mat2 = [[9, 10, 11, 12],\n",
        "        [13, 14, 15, 16]]\n",
        "\n",
        "mat3 = [[17, 18, 19, 20],\n",
        "        [21, 22, 23, 24]]\n",
        "\n",
        "# 텐서 변환 - constant 함수에 3차원 배열 입력\n",
        "tensor1 = tf.constant([mat1, mat2, mat3])\n",
        "\n",
        "# 랭크 확인\n",
        "print(\"rank:\", tf.rank(tensor1))\n",
        "\n",
        "# 텐서 출력\n",
        "print(\"tensor1:\", tensor1)"
      ],
      "metadata": {
        "colab": {
          "base_uri": "https://localhost:8080/"
        },
        "id": "_ZbNAdIHrnFS",
        "outputId": "227650ca-174d-4593-8943-5bbf956e3b83"
      },
      "execution_count": 10,
      "outputs": [
        {
          "output_type": "stream",
          "name": "stdout",
          "text": [
            "rank: tf.Tensor(3, shape=(), dtype=int32)\n",
            "tensor1: tf.Tensor(\n",
            "[[[ 1  2  3  4]\n",
            "  [ 5  6  7  8]]\n",
            "\n",
            " [[ 9 10 11 12]\n",
            "  [13 14 15 16]]\n",
            "\n",
            " [[17 18 19 20]\n",
            "  [21 22 23 24]]], shape=(3, 2, 4), dtype=int32)\n"
          ]
        }
      ]
    },
    {
      "cell_type": "code",
      "source": [
        "# 텐서 변환 - stack 함수로 2차원 배열을 위아래로 쌓기\n",
        "tensor2 = tf.stack([mat1, mat2, mat3])\n",
        "\n",
        "# 랭크 확인\n",
        "print(\"rank:\", tf.rank(tensor2))\n",
        "\n",
        "# 텐서 출력\n",
        "print(\"tensor2:\", tensor2)\n"
      ],
      "metadata": {
        "colab": {
          "base_uri": "https://localhost:8080/"
        },
        "id": "tp4pMTtLrx1h",
        "outputId": "bb4465c6-eac7-483b-aff7-f6e260bc1ac1"
      },
      "execution_count": 11,
      "outputs": [
        {
          "output_type": "stream",
          "name": "stdout",
          "text": [
            "rank: tf.Tensor(3, shape=(), dtype=int32)\n",
            "tensor2: tf.Tensor(\n",
            "[[[ 1  2  3  4]\n",
            "  [ 5  6  7  8]]\n",
            "\n",
            " [[ 9 10 11 12]\n",
            "  [13 14 15 16]]\n",
            "\n",
            " [[17 18 19 20]\n",
            "  [21 22 23 24]]], shape=(3, 2, 4), dtype=int32)\n"
          ]
        }
      ]
    },
    {
      "cell_type": "code",
      "source": [
        "# 1차원 배열 정의\n",
        "vec1 = [1, 2, 3, 4]\n",
        "vec2 = [5, 6, 7, 8]\n",
        "vec3 = [9, 10, 11, 12]\n",
        "vec4 = [13, 14, 15, 16]\n",
        "vec5 = [17, 18, 19, 20]\n",
        "vec6 = [21, 22, 23, 24]\n",
        "\n",
        "# 1차원 배열을 원소로 갖는 2차원 배열 정의\n",
        "arr = [[vec1, vec2],\n",
        "        [vec3, vec4],\n",
        "        [vec5, vec6]]\n",
        "\n",
        "# 텐서 변환\n",
        "tensor3 = tf.constant(arr)\n",
        "\n",
        "# 랭크 확인\n",
        "print(\"rank:\", tf.rank(tensor3))\n",
        "\n",
        "# 텐서 출력\n",
        "print(\"tensor3:\", tensor3)"
      ],
      "metadata": {
        "colab": {
          "base_uri": "https://localhost:8080/"
        },
        "id": "ScziKzzjtk-g",
        "outputId": "d754f938-bfa1-481c-c0b3-4ed91f2624d0"
      },
      "execution_count": 12,
      "outputs": [
        {
          "output_type": "stream",
          "name": "stdout",
          "text": [
            "rank: tf.Tensor(3, shape=(), dtype=int32)\n",
            "tensor3: tf.Tensor(\n",
            "[[[ 1  2  3  4]\n",
            "  [ 5  6  7  8]]\n",
            "\n",
            " [[ 9 10 11 12]\n",
            "  [13 14 15 16]]\n",
            "\n",
            " [[17 18 19 20]\n",
            "  [21 22 23 24]]], shape=(3, 2, 4), dtype=int32)\n"
          ]
        }
      ]
    },
    {
      "cell_type": "code",
      "source": [
        "# 랭크-4 텐서 만들기\n",
        "tensor4 = tf.stack([tensor1, tensor2])\n",
        "\n",
        "# 랭크 확인\n",
        "print(\"rank:\", tf.rank(tensor4))\n",
        "\n",
        "# 텐서 출력\n",
        "print(\"tensor4:\", tensor4)"
      ],
      "metadata": {
        "colab": {
          "base_uri": "https://localhost:8080/"
        },
        "id": "AfM2kxS6t3te",
        "outputId": "aee259eb-c354-4643-888d-0003a6629a58"
      },
      "execution_count": 13,
      "outputs": [
        {
          "output_type": "stream",
          "name": "stdout",
          "text": [
            "rank: tf.Tensor(4, shape=(), dtype=int32)\n",
            "tensor4: tf.Tensor(\n",
            "[[[[ 1  2  3  4]\n",
            "   [ 5  6  7  8]]\n",
            "\n",
            "  [[ 9 10 11 12]\n",
            "   [13 14 15 16]]\n",
            "\n",
            "  [[17 18 19 20]\n",
            "   [21 22 23 24]]]\n",
            "\n",
            "\n",
            " [[[ 1  2  3  4]\n",
            "   [ 5  6  7  8]]\n",
            "\n",
            "  [[ 9 10 11 12]\n",
            "   [13 14 15 16]]\n",
            "\n",
            "  [[17 18 19 20]\n",
            "   [21 22 23 24]]]], shape=(2, 3, 2, 4), dtype=int32)\n"
          ]
        }
      ]
    },
    {
      "cell_type": "markdown",
      "source": [
        "# 인덱싱"
      ],
      "metadata": {
        "id": "jbPNd42pmA71"
      }
    },
    {
      "cell_type": "code",
      "source": [
        "# 텐서플로 불러오기\n",
        "import tensorflow as tf\n",
        "\n",
        "# 벡터 정의하기\n",
        "vec = tf.constant([10, 20, 30, 40, 50])\n",
        "print(vec)"
      ],
      "metadata": {
        "colab": {
          "base_uri": "https://localhost:8080/"
        },
        "id": "CjjYlvY4u7p7",
        "outputId": "1bd3b035-b98e-4858-8764-f6d7f8baa735"
      },
      "execution_count": 1,
      "outputs": [
        {
          "output_type": "stream",
          "name": "stdout",
          "text": [
            "tf.Tensor([10 20 30 40 50], shape=(5,), dtype=int32)\n"
          ]
        }
      ]
    },
    {
      "cell_type": "code",
      "source": [
        "print(vec[0])\n",
        "print(vec[-1])\n",
        "print(vec[:3])\n"
      ],
      "metadata": {
        "colab": {
          "base_uri": "https://localhost:8080/"
        },
        "id": "pibG7M2Yl_mI",
        "outputId": "4e496630-84d1-4a1c-8955-2e1ff8c81356"
      },
      "execution_count": 3,
      "outputs": [
        {
          "output_type": "stream",
          "name": "stdout",
          "text": [
            "tf.Tensor(10, shape=(), dtype=int32)\n",
            "tf.Tensor(50, shape=(), dtype=int32)\n",
            "tf.Tensor([10 20 30], shape=(3,), dtype=int32)\n"
          ]
        }
      ]
    },
    {
      "cell_type": "code",
      "source": [
        "# 행렬 정의하기\n",
        "mat = tf.constant([[10, 20, 30],\n",
        "                    [40, 50, 60]])\n",
        "\n",
        "print(mat[0, 2])\n",
        ""
      ],
      "metadata": {
        "colab": {
          "base_uri": "https://localhost:8080/"
        },
        "id": "KUd5-W-3mJVZ",
        "outputId": "5bc0559f-fb53-457a-e6ec-8e4010e790bd"
      },
      "execution_count": 4,
      "outputs": [
        {
          "output_type": "stream",
          "name": "stdout",
          "text": [
            "tf.Tensor(30, shape=(), dtype=int32)\n"
          ]
        }
      ]
    },
    {
      "cell_type": "code",
      "source": [
        "# 해당 열의 모든 행에 해당하는 원소를 갖는 벡터 추출\n",
        "print(mat[:, 1])"
      ],
      "metadata": {
        "colab": {
          "base_uri": "https://localhost:8080/"
        },
        "id": "uKHBXQL2mnMq",
        "outputId": "38217d3f-8299-4dc5-97e0-4d02888e921e"
      },
      "execution_count": 5,
      "outputs": [
        {
          "output_type": "stream",
          "name": "stdout",
          "text": [
            "tf.Tensor([20 50], shape=(2,), dtype=int32)\n"
          ]
        }
      ]
    },
    {
      "cell_type": "code",
      "source": [
        "# 모든 행 모든 열 범위를 지정\n",
        "print(mat[:, :])"
      ],
      "metadata": {
        "colab": {
          "base_uri": "https://localhost:8080/"
        },
        "id": "_ZnkzBX6myWz",
        "outputId": "71f4b132-d247-40b9-bc17-8e27e0fd7640"
      },
      "execution_count": 7,
      "outputs": [
        {
          "output_type": "stream",
          "name": "stdout",
          "text": [
            "tf.Tensor(\n",
            "[[10 20 30]\n",
            " [40 50 60]], shape=(2, 3), dtype=int32)\n"
          ]
        }
      ]
    },
    {
      "cell_type": "code",
      "source": [
        "# 랭크-3 텐서 정의하기\n",
        "tensor = tf.constant([\n",
        "    [[10, 20, 30],\n",
        "     [40, 50, 60]],\n",
        "    [[-10, -20, -30],\n",
        "     [-40, -50, -60]],\n",
        "])\n",
        "print(tensor)"
      ],
      "metadata": {
        "colab": {
          "base_uri": "https://localhost:8080/"
        },
        "id": "Sgx3eJ6Vm3v1",
        "outputId": "cdc182ba-648f-46e4-cb1b-4cd6aa6168b2"
      },
      "execution_count": 8,
      "outputs": [
        {
          "output_type": "stream",
          "name": "stdout",
          "text": [
            "tf.Tensor(\n",
            "[[[ 10  20  30]\n",
            "  [ 40  50  60]]\n",
            "\n",
            " [[-10 -20 -30]\n",
            "  [-40 -50 -60]]], shape=(2, 2, 3), dtype=int32)\n"
          ]
        }
      ]
    },
    {
      "cell_type": "code",
      "source": [
        "# [인덱스0, 모든 인덱스, 모든 인덱스]\n",
        "# 축 1방향으로 첫번째 원소인 (2, 3) 크기의 행렬을 먼저 찾고, 행렬의 모든 인덱스를 선택\n",
        "print(tensor[0, :, :])"
      ],
      "metadata": {
        "colab": {
          "base_uri": "https://localhost:8080/"
        },
        "id": "Q_iFEhp-m8tI",
        "outputId": "ad67ed35-8c53-4975-cc4a-3d4e88cd9ef4"
      },
      "execution_count": 9,
      "outputs": [
        {
          "output_type": "stream",
          "name": "stdout",
          "text": [
            "tf.Tensor(\n",
            "[[10 20 30]\n",
            " [40 50 60]], shape=(2, 3), dtype=int32)\n"
          ]
        }
      ]
    },
    {
      "cell_type": "code",
      "source": [
        "print(tensor[:, :2, :2])\n",
        "# 축1 방향으로 모든 원소 선택, (2,3) 크기의 행렬 2개 선택\n",
        "# 축(2, 3) 방향으로 :2, :2 범위로 슬라이싱 적용"
      ],
      "metadata": {
        "colab": {
          "base_uri": "https://localhost:8080/"
        },
        "id": "vDKLNZffnaGH",
        "outputId": "772cc800-a4cf-4b95-aa23-e19fa0d35b61"
      },
      "execution_count": 11,
      "outputs": [
        {
          "output_type": "stream",
          "name": "stdout",
          "text": [
            "tf.Tensor(\n",
            "[[[ 10  20]\n",
            "  [ 40  50]]\n",
            "\n",
            " [[-10 -20]\n",
            "  [-40 -50]]], shape=(2, 2, 2), dtype=int32)\n"
          ]
        }
      ]
    },
    {
      "cell_type": "markdown",
      "source": [
        "# 형태 변환"
      ],
      "metadata": {
        "id": "uXLoMFJQnuCP"
      }
    },
    {
      "cell_type": "code",
      "source": [
        "# 텐서플로 불러오기\n",
        "import tensorflow as tf\n",
        "\n",
        "# 랭크-1 텐서 정의하기\n",
        "tensor = tf.constant(range(0, 24))\n",
        "print(tensor)"
      ],
      "metadata": {
        "colab": {
          "base_uri": "https://localhost:8080/"
        },
        "id": "HHJ1j9tVnh-0",
        "outputId": "2fdd7301-f9ad-4856-dd5e-3dd364b0771f"
      },
      "execution_count": 12,
      "outputs": [
        {
          "output_type": "stream",
          "name": "stdout",
          "text": [
            "tf.Tensor([ 0  1  2  3  4  5  6  7  8  9 10 11 12 13 14 15 16 17 18 19 20 21 22 23], shape=(24,), dtype=int32)\n"
          ]
        }
      ]
    },
    {
      "cell_type": "code",
      "source": [
        "# (3, 8) 형태의 행렬로 만들기\n",
        "tensor1 = tf.reshape(tensor, [3, 8])\n",
        "print(tensor1)"
      ],
      "metadata": {
        "colab": {
          "base_uri": "https://localhost:8080/"
        },
        "id": "ybeYkVg7n4ZC",
        "outputId": "a2e532ab-fa8a-41c5-e70f-8cd236350b54"
      },
      "execution_count": 13,
      "outputs": [
        {
          "output_type": "stream",
          "name": "stdout",
          "text": [
            "tf.Tensor(\n",
            "[[ 0  1  2  3  4  5  6  7]\n",
            " [ 8  9 10 11 12 13 14 15]\n",
            " [16 17 18 19 20 21 22 23]], shape=(3, 8), dtype=int32)\n"
          ]
        }
      ]
    },
    {
      "cell_type": "code",
      "source": [
        "tensor2 = tf.reshape(tensor1, [-1, 4]) #-1은 어떤 값이 되어도 관계없다는 뜻\n",
        "# 먼저 값이 지정되어 있는 열의 크기인 4를 적용, 원소 개수와 배열의 형태에 따라 행의 크기르 ㄹ결정하게 된다.\n",
        "print(tensor2)"
      ],
      "metadata": {
        "colab": {
          "base_uri": "https://localhost:8080/"
        },
        "id": "Mwftg-afoAAf",
        "outputId": "2c4b667c-09b6-4a75-d189-d1545a256820"
      },
      "execution_count": 14,
      "outputs": [
        {
          "output_type": "stream",
          "name": "stdout",
          "text": [
            "tf.Tensor(\n",
            "[[ 0  1  2  3]\n",
            " [ 4  5  6  7]\n",
            " [ 8  9 10 11]\n",
            " [12 13 14 15]\n",
            " [16 17 18 19]\n",
            " [20 21 22 23]], shape=(6, 4), dtype=int32)\n"
          ]
        }
      ]
    },
    {
      "cell_type": "code",
      "source": [
        "# (24, ) 형태의 1차원 벡터로 변환\n",
        "tensor3 = tf.reshape(tensor2, [-1])\n",
        "print(tensor3)"
      ],
      "metadata": {
        "colab": {
          "base_uri": "https://localhost:8080/"
        },
        "id": "HjiXy41soPhX",
        "outputId": "5f49550f-d888-4628-effb-ca88db51a11e"
      },
      "execution_count": 16,
      "outputs": [
        {
          "output_type": "stream",
          "name": "stdout",
          "text": [
            "tf.Tensor([ 0  1  2  3  4  5  6  7  8  9 10 11 12 13 14 15 16 17 18 19 20 21 22 23], shape=(24,), dtype=int32)\n"
          ]
        }
      ]
    },
    {
      "cell_type": "code",
      "source": [
        "tensor4 = tf.reshape(tensor3, [-1, 3, 4])\n",
        "print(tensor4)"
      ],
      "metadata": {
        "colab": {
          "base_uri": "https://localhost:8080/"
        },
        "id": "DkeDxfDroSlP",
        "outputId": "4b51fb03-d6ba-4530-d1bd-9f8fe7671215"
      },
      "execution_count": 17,
      "outputs": [
        {
          "output_type": "stream",
          "name": "stdout",
          "text": [
            "tf.Tensor(\n",
            "[[[ 0  1  2  3]\n",
            "  [ 4  5  6  7]\n",
            "  [ 8  9 10 11]]\n",
            "\n",
            " [[12 13 14 15]\n",
            "  [16 17 18 19]\n",
            "  [20 21 22 23]]], shape=(2, 3, 4), dtype=int32)\n"
          ]
        }
      ]
    },
    {
      "cell_type": "code",
      "source": [
        "tensor5 = tf.reshape(tensor4, [3, 2, 4])\n",
        "print(tensor5)"
      ],
      "metadata": {
        "colab": {
          "base_uri": "https://localhost:8080/"
        },
        "id": "gB6whmCiofmg",
        "outputId": "c4025731-e5c7-4637-bbd0-b75bb2712a2b"
      },
      "execution_count": 18,
      "outputs": [
        {
          "output_type": "stream",
          "name": "stdout",
          "text": [
            "tf.Tensor(\n",
            "[[[ 0  1  2  3]\n",
            "  [ 4  5  6  7]]\n",
            "\n",
            " [[ 8  9 10 11]\n",
            "  [12 13 14 15]]\n",
            "\n",
            " [[16 17 18 19]\n",
            "  [20 21 22 23]]], shape=(3, 2, 4), dtype=int32)\n"
          ]
        }
      ]
    },
    {
      "cell_type": "code",
      "source": [
        "tensor6 = tf.reshape(tensor5, [3, 2, 2, 2])\n",
        "print(tensor6)"
      ],
      "metadata": {
        "colab": {
          "base_uri": "https://localhost:8080/"
        },
        "id": "RtOflHPQooZw",
        "outputId": "19f4ef20-29a1-4e30-cb7e-39dc53eee096"
      },
      "execution_count": 19,
      "outputs": [
        {
          "output_type": "stream",
          "name": "stdout",
          "text": [
            "tf.Tensor(\n",
            "[[[[ 0  1]\n",
            "   [ 2  3]]\n",
            "\n",
            "  [[ 4  5]\n",
            "   [ 6  7]]]\n",
            "\n",
            "\n",
            " [[[ 8  9]\n",
            "   [10 11]]\n",
            "\n",
            "  [[12 13]\n",
            "   [14 15]]]\n",
            "\n",
            "\n",
            " [[[16 17]\n",
            "   [18 19]]\n",
            "\n",
            "  [[20 21]\n",
            "   [22 23]]]], shape=(3, 2, 2, 2), dtype=int32)\n"
          ]
        }
      ]
    },
    {
      "cell_type": "markdown",
      "source": [
        "# 변수"
      ],
      "metadata": {
        "id": "ehgYj6F7pIND"
      }
    },
    {
      "cell_type": "code",
      "source": [
        "# 텐서플로 불러오기\n",
        "import tensorflow as tf\n",
        "\n",
        "# 텐서 정의하기\n",
        "tensor1 = tf.constant([[0, 1, 2],\n",
        "                      [3, 4, 5]])\n",
        "print(tensor1)"
      ],
      "metadata": {
        "colab": {
          "base_uri": "https://localhost:8080/"
        },
        "id": "ptc3RaVLoy2i",
        "outputId": "8d0329c7-91e5-4226-f890-8153e2a2641c"
      },
      "execution_count": 20,
      "outputs": [
        {
          "output_type": "stream",
          "name": "stdout",
          "text": [
            "tf.Tensor(\n",
            "[[0 1 2]\n",
            " [3 4 5]], shape=(2, 3), dtype=int32)\n"
          ]
        }
      ]
    },
    {
      "cell_type": "code",
      "source": [
        "tensor_var1 = tf.Variable(tensor1)\n",
        "print(tensor_var1)"
      ],
      "metadata": {
        "colab": {
          "base_uri": "https://localhost:8080/"
        },
        "id": "jCTD5-xNp_Uu",
        "outputId": "243e2021-fd3a-41df-9ba4-5a0c6c6047c4"
      },
      "execution_count": 21,
      "outputs": [
        {
          "output_type": "stream",
          "name": "stdout",
          "text": [
            "<tf.Variable 'Variable:0' shape=(2, 3) dtype=int32, numpy=\n",
            "array([[0, 1, 2],\n",
            "       [3, 4, 5]], dtype=int32)>\n"
          ]
        }
      ]
    },
    {
      "cell_type": "code",
      "source": [
        "print(\"이름: \", tensor_var1.name)\n",
        "print(\"크기: \", tensor_var1.shape)\n",
        "print(\"자료형: \", tensor_var1.dtype)\n",
        "print(\"배열: \", tensor_var1.numpy())"
      ],
      "metadata": {
        "colab": {
          "base_uri": "https://localhost:8080/"
        },
        "id": "p98JAa6xqCZb",
        "outputId": "676a65dd-fdcf-4c30-cfe9-c4967f84742e"
      },
      "execution_count": 22,
      "outputs": [
        {
          "output_type": "stream",
          "name": "stdout",
          "text": [
            "이름:  Variable:0\n",
            "크기:  (2, 3)\n",
            "자료형:  <dtype: 'int32'>\n",
            "배열:  [[0 1 2]\n",
            " [3 4 5]]\n"
          ]
        }
      ]
    },
    {
      "cell_type": "code",
      "source": [
        "# assign()메소드를 이용해 텐서플로 변수에 새로운 데이터를 할당\n",
        "# 배열의 크기, 자료형이 원래 변수의 크기와 자료형이 동일해야 한다!\n",
        "\n",
        "tensor_var1.assign([[1, 1, 1],\n",
        "                    [2, 2, 2]])\n",
        "print(tensor_var1)"
      ],
      "metadata": {
        "colab": {
          "base_uri": "https://localhost:8080/"
        },
        "id": "FqVxVwl4qttF",
        "outputId": "38307354-a7a6-4f95-a425-3249f7e1b3fc"
      },
      "execution_count": 23,
      "outputs": [
        {
          "output_type": "stream",
          "name": "stdout",
          "text": [
            "<tf.Variable 'Variable:0' shape=(2, 3) dtype=int32, numpy=\n",
            "array([[1, 1, 1],\n",
            "       [2, 2, 2]], dtype=int32)>\n"
          ]
        }
      ]
    },
    {
      "cell_type": "code",
      "source": [
        "tensor2 = tf.convert_to_tensor(tensor_var1)\n",
        "print(tensor2)"
      ],
      "metadata": {
        "colab": {
          "base_uri": "https://localhost:8080/"
        },
        "id": "Nrnn5-gPq9MX",
        "outputId": "c9698bfd-98cd-476f-e41b-441e7f65d71b"
      },
      "execution_count": 24,
      "outputs": [
        {
          "output_type": "stream",
          "name": "stdout",
          "text": [
            "tf.Tensor(\n",
            "[[1 1 1]\n",
            " [2 2 2]], shape=(2, 3), dtype=int32)\n"
          ]
        }
      ]
    },
    {
      "cell_type": "code",
      "source": [
        "tensor_var2 = tf.Variable(tensor2, name='New Name')\n",
        "print(tensor_var2.name)"
      ],
      "metadata": {
        "colab": {
          "base_uri": "https://localhost:8080/"
        },
        "id": "odbGHGi_vqTu",
        "outputId": "dde9a53a-704b-4716-b3ce-b69dc7f41d6e"
      },
      "execution_count": 25,
      "outputs": [
        {
          "output_type": "stream",
          "name": "stdout",
          "text": [
            "New Name:0\n"
          ]
        }
      ]
    },
    {
      "cell_type": "code",
      "source": [
        "tensor_var1 + tensor_var2"
      ],
      "metadata": {
        "colab": {
          "base_uri": "https://localhost:8080/"
        },
        "id": "zEmSi3NCv3ws",
        "outputId": "538bfd63-e8bd-4e27-e29f-7a042fc6e96a"
      },
      "execution_count": 26,
      "outputs": [
        {
          "output_type": "execute_result",
          "data": {
            "text/plain": [
              "<tf.Tensor: shape=(2, 3), dtype=int32, numpy=\n",
              "array([[2, 2, 2],\n",
              "       [4, 4, 4]], dtype=int32)>"
            ]
          },
          "metadata": {},
          "execution_count": 26
        }
      ]
    },
    {
      "cell_type": "markdown",
      "source": [
        "# 자동 미분(Automatic Differentiation)"
      ],
      "metadata": {
        "id": "I6cMDXe3wO71"
      }
    },
    {
      "cell_type": "code",
      "source": [
        "# 라이브러리 불러오기\n",
        "import tensorflow as tf\n",
        "\n",
        "# Y= 3X - 2 선형 관계를 갖는 데이터셋 생성\n",
        "g = tf.random.Generator.from_seed(2020)\n",
        "X = g.normal(shape=(10, ))\n",
        "Y = 3 * X - 2\n",
        "\n",
        "print('X: ', X.numpy())\n",
        "print('Y: ', Y.numpy())"
      ],
      "metadata": {
        "colab": {
          "base_uri": "https://localhost:8080/"
        },
        "id": "oL_UKh3BwU_V",
        "outputId": "93060e18-e296-4d1c-a5df-876aa519e006"
      },
      "execution_count": 27,
      "outputs": [
        {
          "output_type": "stream",
          "name": "stdout",
          "text": [
            "X:  [-0.20943771  1.2746525   1.213214   -0.17576954  1.876984    0.16379917\n",
            "  1.082245    0.6199966  -0.4440221   1.3048344 ]\n",
            "Y:  [-2.628313    1.8239574   1.6396422  -2.5273085   3.630952   -1.5086025\n",
            "  1.2467351  -0.14001012 -3.3320663   1.9145031 ]\n"
          ]
        }
      ]
    },
    {
      "cell_type": "code",
      "source": [
        "# Loss 함수 정의\n",
        "def cal_mse(X, Y, a, b):\n",
        "\n",
        "    Y_pred = a * X + b\n",
        "    squared_error = (Y_pred - Y)**2\n",
        "    mean_squared_error = tf.reduce_mean(squared_error)\n",
        "\n",
        "    return mean_squared_error"
      ],
      "metadata": {
        "id": "SGbaVaTcv8Tb"
      },
      "execution_count": 31,
      "outputs": []
    },
    {
      "cell_type": "code",
      "source": [
        "# tf.GradientTape로 자동미분 과정을 기록\n",
        "\n",
        "a = tf.Variable(0.0)\n",
        "b = tf.Variable(0.0)\n",
        "\n",
        "EPOCHS = 200\n",
        "\n",
        "for epoch in range(1, EPOCHS + 1):\n",
        "\n",
        "    with tf.GradientTape() as tape:\n",
        "        mse = cal_mse(X, Y, a, b)\n",
        "\n",
        "    grad = tape.gradient(mse, {'a': a, 'b': b})\n",
        "    d_a, d_b = grad['a'], grad['b']\n",
        "\n",
        "    a.assign_sub(d_a * 0.05)\n",
        "    b.assign_sub(d_b * 0.05)\n",
        "\n",
        "    if epoch % 20 == 0:\n",
        "        print(\"EPOCH %d - MSE: %.4f --- a: %.2f --- b: %.2f\" % (epoch, mse, a, b))"
      ],
      "metadata": {
        "colab": {
          "base_uri": "https://localhost:8080/"
        },
        "id": "3bu6_kJdzUZh",
        "outputId": "4a2a0099-1efe-4704-862c-f51321512fdd"
      },
      "execution_count": 29,
      "outputs": [
        {
          "output_type": "stream",
          "name": "stdout",
          "text": [
            "EPOCH 20 - MSE: 1.1415 --- a: 1.74 --- b: -0.75\n",
            "EPOCH 40 - MSE: 0.2881 --- a: 2.37 --- b: -1.37\n",
            "EPOCH 60 - MSE: 0.0728 --- a: 2.69 --- b: -1.68\n",
            "EPOCH 80 - MSE: 0.0184 --- a: 2.84 --- b: -1.84\n",
            "EPOCH 100 - MSE: 0.0046 --- a: 2.92 --- b: -1.92\n",
            "EPOCH 120 - MSE: 0.0012 --- a: 2.96 --- b: -1.96\n",
            "EPOCH 140 - MSE: 0.0003 --- a: 2.98 --- b: -1.98\n",
            "EPOCH 160 - MSE: 0.0001 --- a: 2.99 --- b: -1.99\n",
            "EPOCH 180 - MSE: 0.0000 --- a: 2.99 --- b: -1.99\n",
            "EPOCH 200 - MSE: 0.0000 --- a: 3.00 --- b: -2.00\n"
          ]
        }
      ]
    }
  ]
}