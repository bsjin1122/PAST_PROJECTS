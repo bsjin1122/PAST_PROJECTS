{
  "nbformat": 4,
  "nbformat_minor": 0,
  "metadata": {
    "colab": {
      "provenance": [],
      "authorship_tag": "ABX9TyOOVTffqQPGmDdlcaZkGXW2",
      "include_colab_link": true
    },
    "kernelspec": {
      "name": "python3",
      "display_name": "Python 3"
    },
    "language_info": {
      "name": "python"
    }
  },
  "cells": [
    {
      "cell_type": "markdown",
      "metadata": {
        "id": "view-in-github",
        "colab_type": "text"
      },
      "source": [
        "<a href=\"https://colab.research.google.com/github/bsjin1122/deep-learning/blob/main/03_keras/keras_funcational_API.ipynb\" target=\"_parent\"><img src=\"https://colab.research.google.com/assets/colab-badge.svg\" alt=\"Open In Colab\"/></a>"
      ]
    },
    {
      "cell_type": "markdown",
      "source": [
        "# 함수형 API(Functional API)\n",
        "- 함수 형태로 모델을 정의하면 다양한 모델 구조를 구현할 수 있다.\n",
        "여러 층을 시퀀스 형태로 연결하는 Sequential API와 다르게, Functional API는 복잡한 구조의 모델을 정의할 수 있다.\n",
        "  - 함수의 입력 매개변수를 여러 개 갖는 `다중 입력`\n",
        "\n",
        "  - 함수의 return 값을 여러 개 갖는 다중 출력\n",
        "  - 같은 레벨에 여러 개의 층을 배치하여 입력과 출력을 공유하는 구조 등 가능\n",
        "\n",
        "## Sequential API\n",
        "- 단반향의 Sequential 모델만 구현 가능하다는 제약\n",
        "- 데이터 흐름이 특정 레이어를 건너 뛰거나, 병합 및 분리 등의 구조 모델을 구현할 수는 없다."
      ],
      "metadata": {
        "id": "pbDkv0vUkxcR"
      }
    },
    {
      "cell_type": "code",
      "source": [
        "import tensorflow as tf\n",
        "\n",
        "# 케라스의 내장 데이터셋에서 mnist 데이터셋을 로드\n",
        "mnist = tf.keras.datasets.mnist\n",
        "\n",
        "# load_data()로 데이터셋을 로드 합니다.\n",
        "(x_train, y_train), (x_test, y_test) = mnist.load_data()\n",
        "\n",
        "# 데이터 정규화\n",
        "x_train = x_train / x_train.max()\n",
        "x_test = x_test / x_test.max()"
      ],
      "metadata": {
        "id": "j9k0lXc4k_KL"
      },
      "execution_count": 2,
      "outputs": []
    },
    {
      "cell_type": "code",
      "source": [
        "model = tf.keras.Sequential([\n",
        "    tf.keras.layers.Flatten(input_shape=(28, 28)),\n",
        "    tf.keras.layers.Dense(256, activation='relu'),\n",
        "    tf.keras.layers.Dense(64, activation='relu'),\n",
        "    tf.keras.layers.Dense(32, activation='relu'),\n",
        "    tf.keras.layers.Dense(10, activation='softmax'),\n",
        "])\n",
        ""
      ],
      "metadata": {
        "id": "CB_S-3IvlRwF"
      },
      "execution_count": 3,
      "outputs": []
    },
    {
      "cell_type": "code",
      "source": [
        "# 모델의 레이어를 체인 구조로 연결 Input 레이어 정의\n",
        "input_layer = tf.keras.Input(shape=(28, 28), name='InputLayer')\n",
        "\n",
        "# 모델의 레이어를 체인 구조로 연결\n",
        "x1 = tf.keras.layers.Flatten(name='Flatten')(input_layer)\n",
        "x2 = tf.keras.layers.Dense(256, activation='relu', name='Dense1')(x1)\n",
        "x3 = tf.keras.layers.Dense(64, activation='relu', name='Dense2')(x2)\n",
        "x4 = tf.keras.layers.Dense(10, activation='softmax', name='OutputLayer')(x3)"
      ],
      "metadata": {
        "id": "fnVgfPnFl1J5"
      },
      "execution_count": 4,
      "outputs": []
    },
    {
      "cell_type": "code",
      "source": [
        "# 모델 생성\n",
        "func_model = tf.keras.Model(inputs=input_layer, outputs=x4, name='FunctionalModel')\n",
        "\n",
        "# 모델 요약\n",
        "func_model.summary()"
      ],
      "metadata": {
        "colab": {
          "base_uri": "https://localhost:8080/"
        },
        "id": "Yqha-gpGmn98",
        "outputId": "08bd9cdf-3c28-444c-b07c-f109835a3e24"
      },
      "execution_count": 5,
      "outputs": [
        {
          "output_type": "stream",
          "name": "stdout",
          "text": [
            "Model: \"FunctionalModel\"\n",
            "_________________________________________________________________\n",
            " Layer (type)                Output Shape              Param #   \n",
            "=================================================================\n",
            " InputLayer (InputLayer)     [(None, 28, 28)]          0         \n",
            "                                                                 \n",
            " Flatten (Flatten)           (None, 784)               0         \n",
            "                                                                 \n",
            " Dense1 (Dense)              (None, 256)               200960    \n",
            "                                                                 \n",
            " Dense2 (Dense)              (None, 64)                16448     \n",
            "                                                                 \n",
            " OutputLayer (Dense)         (None, 10)                650       \n",
            "                                                                 \n",
            "=================================================================\n",
            "Total params: 218,058\n",
            "Trainable params: 218,058\n",
            "Non-trainable params: 0\n",
            "_________________________________________________________________\n"
          ]
        }
      ]
    },
    {
      "cell_type": "code",
      "source": [
        "from tensorflow.keras.utils import plot_model\n",
        "\n",
        "# 구조도 시각화\n",
        "plot_model(func_model, show_shapes=True, show_layer_names=True, to_file='model.png')\n",
        ""
      ],
      "metadata": {
        "colab": {
          "base_uri": "https://localhost:8080/",
          "height": 533
        },
        "id": "f6Gix3kJnvcI",
        "outputId": "ee81f2e1-d01e-465b-9c70-4073ab607a42"
      },
      "execution_count": 6,
      "outputs": [
        {
          "output_type": "execute_result",
          "data": {
            "image/png": "[encoded data removed]",
            "text/plain": [
              "<IPython.core.display.Image object>"
            ]
          },
          "metadata": {},
          "execution_count": 6
        }
      ]
    },
    {
      "cell_type": "code",
      "source": [
        "\n",
        "# 컴파일\n",
        "func_model.compile(optimizer='adam', loss='sparse_categorical_crossentropy', metrics=['accuracy'])\n",
        "\n",
        "# 훈련\n",
        "func_model.fit(x_train, y_train, epochs=3)\n",
        "\n",
        "# 검증\n",
        "loss, acc = func_model.evaluate(x_test, y_test, verbose=0)\n",
        "print(f'Functional Model] loss: {loss:.5f}, acc: {acc:.5f}')"
      ],
      "metadata": {
        "colab": {
          "base_uri": "https://localhost:8080/"
        },
        "id": "SveDpJm-nwH3",
        "outputId": "ae0d8030-f416-411d-f5fb-c84b6537a646"
      },
      "execution_count": 7,
      "outputs": [
        {
          "output_type": "stream",
          "name": "stdout",
          "text": [
            "Epoch 1/3\n",
            "1875/1875 [==============================] - 10s 5ms/step - loss: 0.2134 - accuracy: 0.9362\n",
            "Epoch 2/3\n",
            "1875/1875 [==============================] - 9s 5ms/step - loss: 0.0861 - accuracy: 0.9728\n",
            "Epoch 3/3\n",
            "1875/1875 [==============================] - 8s 4ms/step - loss: 0.0600 - accuracy: 0.9808\n",
            "Functional Model] loss: 0.07879, acc: 0.97720\n"
          ]
        }
      ]
    },
    {
      "cell_type": "markdown",
      "source": [
        "# 모델 서브클래싱"
      ],
      "metadata": {
        "id": "YLbfIbwEoyAI"
      }
    },
    {
      "cell_type": "code",
      "source": [
        "class MyModel(tf.keras.Model):\n",
        "\n",
        "    def __init__(self):\n",
        "        super(MyModel, self).__init__()\n",
        "        # 초기값 설정\n",
        "        self.flatten = tf.keras.layers.Flatten()\n",
        "        self.dense1 = tf.keras.layers.Dense(256, activation='relu')\n",
        "        self.dense2 = tf.keras.layers.Dense(64, activation='relu')\n",
        "        self.dense3 = tf.keras.layers.Dense(10, activation='softmax')\n",
        "\n",
        "    # class overiding\n",
        "    # 학습용 함수 정의\n",
        "    # x는 input\n",
        "    def call(self, x):\n",
        "        x = self.flatten(x)\n",
        "        x = self.dense1(x)\n",
        "        x = self.dense2(x)\n",
        "        x = self.dense3(x)\n",
        "        return x\n",
        "\n",
        "\n",
        "    # call() 메소드는 fit() 메소드가 호출되어 훈련하는 경우 호출될 함수이다.\n",
        "    # - call() 함수 내부에서는 모델의 입력부터 출력까지의 흐름, 즉 순전파를 정의하고 함수형 API와 같은 방식으로 모든 레이어를 체인처럼 연결한다.\n",
        "    # - 마지막으로 최종 출력값을 return한다.\n",
        ""
      ],
      "metadata": {
        "id": "PSXghXF5oQIb"
      },
      "execution_count": 9,
      "outputs": []
    },
    {
      "cell_type": "code",
      "source": [
        "# 모델 생성\n",
        "mymodel = MyModel() #생성자로 인스턴스 생성\n",
        "\n",
        "# 모델의 이름 설정\n",
        "mymodel._name = 'subclass_model'\n",
        "\n",
        "# 모델 input 정의\n",
        "mymodel(tf.keras.layers.Input(shape=(28, 28))) #input_shape이 정의되지 않아 전체 모델의 구조를 생성해내지 못한다.\n",
        "\n",
        "# 모델 요약\n",
        "mymodel.summary()"
      ],
      "metadata": {
        "colab": {
          "base_uri": "https://localhost:8080/"
        },
        "id": "fje2AEIMo0gK",
        "outputId": "cae46267-82b8-4729-8946-c4764b7b3c39"
      },
      "execution_count": 10,
      "outputs": [
        {
          "output_type": "stream",
          "name": "stdout",
          "text": [
            "Model: \"subclass_model\"\n",
            "_________________________________________________________________\n",
            " Layer (type)                Output Shape              Param #   \n",
            "=================================================================\n",
            " flatten_1 (Flatten)         multiple                  0         \n",
            "                                                                 \n",
            " dense_4 (Dense)             multiple                  200960    \n",
            "                                                                 \n",
            " dense_5 (Dense)             multiple                  16448     \n",
            "                                                                 \n",
            " dense_6 (Dense)             multiple                  650       \n",
            "                                                                 \n",
            "=================================================================\n",
            "Total params: 218,058\n",
            "Trainable params: 218,058\n",
            "Non-trainable params: 0\n",
            "_________________________________________________________________\n"
          ]
        }
      ]
    },
    {
      "cell_type": "code",
      "source": [
        "# 컴파일\n",
        "mymodel.compile(optimizer='adam', loss='sparse_categorical_crossentropy', metrics=['accuracy'])\n",
        "\n",
        "# 훈련\n",
        "mymodel.fit(x_train, y_train, epochs=3)\n",
        "\n",
        "# 검증\n",
        "loss, acc = mymodel.evaluate(x_test, y_test, verbose=0)\n",
        "print(f'Subclassing Model] loss: {loss:.5f}, acc: {acc:.5f}')\n",
        ""
      ],
      "metadata": {
        "colab": {
          "base_uri": "https://localhost:8080/"
        },
        "id": "lOgtHD-8qxcZ",
        "outputId": "fce668c7-ebd2-466c-e169-17b136ca92b4"
      },
      "execution_count": 11,
      "outputs": [
        {
          "output_type": "stream",
          "name": "stdout",
          "text": [
            "Epoch 1/3\n",
            "1875/1875 [==============================] - 10s 4ms/step - loss: 0.2118 - accuracy: 0.9384\n",
            "Epoch 2/3\n",
            "1875/1875 [==============================] - 9s 5ms/step - loss: 0.0865 - accuracy: 0.9736\n",
            "Epoch 3/3\n",
            "1875/1875 [==============================] - 8s 4ms/step - loss: 0.0593 - accuracy: 0.9813\n",
            "Subclassing Model] loss: 0.07309, acc: 0.97740\n"
          ]
        }
      ]
    },
    {
      "cell_type": "markdown",
      "source": [
        "## 서브클래싱 모델 파라미터를 활용한 생성\n",
        "\n",
        "- 동적으로 유닛 개수 초기화하기"
      ],
      "metadata": {
        "id": "Sp24CFt7rg9X"
      }
    },
    {
      "cell_type": "code",
      "source": [
        "class MyModel(tf.keras.Model):\n",
        "\n",
        "    # 생성자 parameter 추가\n",
        "    def __init__(self, units, num_classes):\n",
        "        super(MyModel, self).__init__()\n",
        "        # 초기값 설정\n",
        "        self.flatten = tf.keras.layers.Flatten()\n",
        "        self.dense1 = tf.keras.layers.Dense(units, activation='relu')\n",
        "        self.dense2 = tf.keras.layers.Dense(units/4, activation='relu')\n",
        "        self.dense3 = tf.keras.layers.Dense(num_classes, activation='softmax')\n",
        "\n",
        "    # class overiding\n",
        "    # 학습용 함수 정의\n",
        "    # x는 input\n",
        "    def call(self, x):\n",
        "        x = self.flatten(x)\n",
        "        x = self.dense1(x)\n",
        "        x = self.dense2(x)\n",
        "        x = self.dense3(x)\n",
        "        return x"
      ],
      "metadata": {
        "id": "oy84nNutq7ZC"
      },
      "execution_count": 12,
      "outputs": []
    },
    {
      "cell_type": "code",
      "source": [
        "\n",
        "# 모델 생성\n",
        "mymodel = MyModel(256, 10)\n",
        "\n",
        "# 모델 input 정의\n",
        "mymodel(tf.keras.layers.Input(shape=(28, 28)))\n",
        "\n",
        "# 모델 요약\n",
        "mymodel.summary()\n",
        ""
      ],
      "metadata": {
        "colab": {
          "base_uri": "https://localhost:8080/"
        },
        "id": "l0iT7mvmrkex",
        "outputId": "f8de222e-280c-4ead-96f0-037081fdd34a"
      },
      "execution_count": 13,
      "outputs": [
        {
          "output_type": "stream",
          "name": "stdout",
          "text": [
            "Model: \"my_model_1\"\n",
            "_________________________________________________________________\n",
            " Layer (type)                Output Shape              Param #   \n",
            "=================================================================\n",
            " flatten_2 (Flatten)         multiple                  0         \n",
            "                                                                 \n",
            " dense_7 (Dense)             multiple                  200960    \n",
            "                                                                 \n",
            " dense_8 (Dense)             multiple                  16448     \n",
            "                                                                 \n",
            " dense_9 (Dense)             multiple                  650       \n",
            "                                                                 \n",
            "=================================================================\n",
            "Total params: 218,058\n",
            "Trainable params: 218,058\n",
            "Non-trainable params: 0\n",
            "_________________________________________________________________\n"
          ]
        }
      ]
    },
    {
      "cell_type": "code",
      "source": [
        "\n",
        "# 컴파일\n",
        "mymodel.compile(optimizer='adam', loss='sparse_categorical_crossentropy', metrics=['accuracy'])\n",
        "\n",
        "# 훈련\n",
        "mymodel.fit(x_train, y_train, epochs=3)\n",
        "\n",
        "# 검증\n",
        "loss, acc = mymodel.evaluate(x_test, y_test, verbose=0)\n",
        "print(f'Subclassing Model w. parameters] loss: {loss:.5f}, acc: {acc:.5f}')"
      ],
      "metadata": {
        "colab": {
          "base_uri": "https://localhost:8080/"
        },
        "id": "D2MGFqLcrpxR",
        "outputId": "640e2e34-e403-47ff-8d3a-197686730f31"
      },
      "execution_count": 14,
      "outputs": [
        {
          "output_type": "stream",
          "name": "stdout",
          "text": [
            "Epoch 1/3\n",
            "1875/1875 [==============================] - 9s 4ms/step - loss: 0.2135 - accuracy: 0.9365\n",
            "Epoch 2/3\n",
            "1875/1875 [==============================] - 8s 4ms/step - loss: 0.0872 - accuracy: 0.9732\n",
            "Epoch 3/3\n",
            "1875/1875 [==============================] - 7s 4ms/step - loss: 0.0604 - accuracy: 0.9810\n",
            "Subclassing Model w. parameters] loss: 0.08455, acc: 0.97560\n"
          ]
        }
      ]
    }
  ]
}