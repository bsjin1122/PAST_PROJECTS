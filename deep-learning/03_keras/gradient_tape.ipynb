{
  "nbformat": 4,
  "nbformat_minor": 0,
  "metadata": {
    "colab": {
      "provenance": [],
      "authorship_tag": "ABX9TyO+tJyULjqeGe1lMvjftKzR",
      "include_colab_link": true
    },
    "kernelspec": {
      "name": "python3",
      "display_name": "Python 3"
    },
    "language_info": {
      "name": "python"
    }
  },
  "cells": [
    {
      "cell_type": "markdown",
      "metadata": {
        "id": "view-in-github",
        "colab_type": "text"
      },
      "source": [
        "<a href=\"https://colab.research.google.com/github/bsjin1122/deep-learning/blob/main/03_keras/gradient_tape.ipynb\" target=\"_parent\"><img src=\"https://colab.research.google.com/assets/colab-badge.svg\" alt=\"Open In Colab\"/></a>"
      ]
    },
    {
      "cell_type": "markdown",
      "source": [
        "# 자동 미분"
      ],
      "metadata": {
        "id": "E2KwHh1q2sZg"
      }
    },
    {
      "cell_type": "code",
      "source": [
        "# 5개의 값을 포함하는 a, b 텐서를 생성한다.\n",
        "# a,b가 훈련 가능한 텐서인지 확인 -> 훈련 가능한 텐서에 대해서만 그래디언트 계산 가능.\n",
        "import numpy as np\n",
        "import matplotlib.pyplot as plt\n",
        "import tensorflow as tf\n",
        "\n",
        "# a, b의 Variable 를 생성\n",
        "a = tf.Variable([1, 2, 3, 4, 5], dtype=tf.float32)\n",
        "b = tf.Variable([10, 20, 30, 40, 50], dtype=tf.float32)\n",
        "\n",
        "# 미분 계산을 위해서 a, b가 미분 가능한 객체인지 확인\n",
        "print(f'a.trainable: {a.trainable}\\nb.trainable: {b.trainable}')\n"
      ],
      "metadata": {
        "colab": {
          "base_uri": "https://localhost:8080/"
        },
        "id": "mWtIA-3h2v6R",
        "outputId": "a37201bb-2ead-40d5-c747-81a310fbf5bb"
      },
      "execution_count": 1,
      "outputs": [
        {
          "output_type": "stream",
          "name": "stdout",
          "text": [
            "a.trainable: True\n",
            "b.trainable: True\n"
          ]
        }
      ]
    },
    {
      "cell_type": "code",
      "source": [
        "# c = a * b\n",
        "# c를 a 대한 편미분 => b\n",
        "# c를 b 대한 편미분 => a\n",
        "with tf.GradientTape() as tape: #범위를 정의하고 tape로 지정한다.\n",
        "    c = a * b\n",
        "grads = tape.gradient(c, [a, b]) #tape: 계산 그래프를 저장, with문 밖에서 tape.gradient()로 미분 계산, 편미분을 각각 구하여 반환\n",
        "tf.print(f'dc/da: {grads[0]}')\n",
        "tf.print(f'dc/db: {grads[1]}')"
      ],
      "metadata": {
        "colab": {
          "base_uri": "https://localhost:8080/"
        },
        "id": "GKKhwUNo2-z_",
        "outputId": "18e063bc-e5cd-4100-c8b2-141141f481ad"
      },
      "execution_count": 2,
      "outputs": [
        {
          "output_type": "stream",
          "name": "stdout",
          "text": [
            "dc/da: [10. 20. 30. 40. 50.]\n",
            "dc/db: [1. 2. 3. 4. 5.]\n"
          ]
        }
      ]
    },
    {
      "cell_type": "code",
      "source": [
        "# 손실을 구한 뒤, 자동 미분 기능을 활용하여 w, b의 값을 업데이트하여 최종 w, b 값을 찾도록 한다.\n",
        "# x, y 샘플 데이터셋을 생성\n",
        "x = tf.Variable(np.random.normal(size=(100, )), dtype=tf.float32)\n",
        "y = 2*x + 3\n",
        "print(f'x[:5]: {x[:5].numpy()}\\ny[:5]: {y[:5].numpy()}')"
      ],
      "metadata": {
        "colab": {
          "base_uri": "https://localhost:8080/"
        },
        "id": "cycoSuBp3MTD",
        "outputId": "0111b3d2-aab9-497d-b323-c7773387f269"
      },
      "execution_count": 3,
      "outputs": [
        {
          "output_type": "stream",
          "name": "stdout",
          "text": [
            "x[:5]: [-0.5336969  -0.91483474  1.0948709   0.5287162   0.83741397]\n",
            "y[:5]: [1.9326062 1.1703305 5.189742  4.057432  4.674828 ]\n"
          ]
        }
      ]
    },
    {
      "cell_type": "code",
      "source": [
        "fig, ax = plt.subplots(figsize=(6, 4))\n",
        "ax.plot(x.numpy(), y.numpy())\n",
        "ax.grid()\n",
        "plt.show()"
      ],
      "metadata": {
        "colab": {
          "base_uri": "https://localhost:8080/",
          "height": 368
        },
        "id": "SIS7g1ZM5RXi",
        "outputId": "0744a415-f062-4cbe-95f6-3675fa478fa5"
      },
      "execution_count": 4,
      "outputs": [
        {
          "output_type": "display_data",
          "data": {
            "text/plain": [
              "<Figure size 600x400 with 1 Axes>"
            ],
            "image/png": "[encoded data removed]"
          },
          "metadata": {}
        }
      ]
    },
    {
      "cell_type": "code",
      "source": [
        "# 학습률, 최대 Epoch 정의\n",
        "learning_rate = 0.25\n",
        "EPOCHS = 100\n",
        "\n",
        "# w, b 초기값을 0.0으로 설정. float 타입을 가져야 한다.\n",
        "w = tf.Variable(0.0)\n",
        "b = tf.Variable(0.0)\n",
        "\n",
        "for epoch in range(EPOCHS):\n",
        "    with tf.GradientTape() as tape:\n",
        "        # y_hat(예측 값)\n",
        "        y_hat = w*x + b\n",
        "        # 손실 계산(MSE)\n",
        "        loss = tf.reduce_mean((y_hat - y)**2)\n",
        "\n",
        "    # 그라디언트 계산\n",
        "    dw, db = tape.gradient(loss, [w, b])\n",
        "\n",
        "    # 그라이언트 업데이트\n",
        "    w = tf.Variable(w - learning_rate * dw)\n",
        "    b = tf.Variable(b - learning_rate * db)\n",
        "\n",
        "    print(f'epoch: {epoch}, loss: {loss.numpy():.4f}, w: {w.numpy():.4f}, b: {b.numpy():.4f}')\n",
        "\n",
        "    # Error가 0.0005보다 작으면 루프 종료\n",
        "    if loss.numpy() < 0.0005:\n",
        "        break"
      ],
      "metadata": {
        "colab": {
          "base_uri": "https://localhost:8080/"
        },
        "id": "JbSC5RC05Vmh",
        "outputId": "183d48d4-c3d8-4db7-fe9a-de9b11676243"
      },
      "execution_count": 5,
      "outputs": [
        {
          "output_type": "stream",
          "name": "stdout",
          "text": [
            "epoch: 0, loss: 12.6411, w: 0.8853, b: 1.5166\n",
            "epoch: 1, loss: 3.3244, w: 1.3772, b: 2.2676\n",
            "epoch: 2, loss: 0.8853, w: 1.6512, b: 2.6390\n",
            "epoch: 3, loss: 0.2392, w: 1.8043, b: 2.8224\n",
            "epoch: 4, loss: 0.0657, w: 1.8899, b: 2.9128\n",
            "epoch: 5, loss: 0.0183, w: 1.9380, b: 2.9573\n",
            "epoch: 6, loss: 0.0052, w: 1.9650, b: 2.9792\n",
            "epoch: 7, loss: 0.0015, w: 1.9802, b: 2.9899\n",
            "epoch: 8, loss: 0.0004, w: 1.9888, b: 2.9951\n"
          ]
        }
      ]
    },
    {
      "cell_type": "markdown",
      "source": [
        "## 자동 미분을 활용한 모델 훈련"
      ],
      "metadata": {
        "id": "lBh5M3FJO7Bh"
      }
    },
    {
      "cell_type": "code",
      "source": [
        "import numpy as np\n",
        "import matplotlib.pyplot as plt\n",
        "import tensorflow as tf\n",
        "\n",
        "# 케라스의 내장 데이터셋에서 mnist 데이터셋을 로드\n",
        "mnist = tf.keras.datasets.mnist\n",
        "\n",
        "# load_data()로 데이터셋을 로드 합니다.\n",
        "(x_train, y_train), (x_test, y_test) = mnist.load_data()\n",
        "\n",
        "# 데이터 정규화\n",
        "x_train = x_train / x_train.max()\n",
        "x_test = x_test / x_test.max()"
      ],
      "metadata": {
        "colab": {
          "base_uri": "https://localhost:8080/"
        },
        "id": "P92nX_Yi5bO9",
        "outputId": "1b22edc7-d73a-40d9-de43-ab038c9b6248"
      },
      "execution_count": 6,
      "outputs": [
        {
          "output_type": "stream",
          "name": "stdout",
          "text": [
            "Downloading data from https://storage.googleapis.com/tensorflow/tf-keras-datasets/mnist.npz\n",
            "11490434/11490434 [==============================] - 0s 0us/step\n"
          ]
        }
      ]
    },
    {
      "cell_type": "code",
      "source": [
        "# 모델 정의\n",
        "model = tf.keras.Sequential([\n",
        "    tf.keras.layers.Flatten(input_shape=(28, 28)),\n",
        "    tf.keras.layers.Dense(256, activation='relu'),\n",
        "    tf.keras.layers.Dense(64, activation='relu'),\n",
        "    tf.keras.layers.Dense(32, activation='relu'),\n",
        "    tf.keras.layers.Dense(10, activation='softmax'),\n",
        "])\n",
        "\n",
        "# 손실함수 정의\n",
        "loss_function = tf.keras.losses.SparseCategoricalCrossentropy()\n",
        "\n",
        "# 옵티마이저 정의\n",
        "optimizer = tf.keras.optimizers.Adam()"
      ],
      "metadata": {
        "id": "jKVq63wGPD7q"
      },
      "execution_count": 8,
      "outputs": []
    },
    {
      "cell_type": "code",
      "source": [
        "# 기록을 위한 Metric 정의\n",
        "train_loss = tf.keras.metrics.Mean(name='train_loss')\n",
        "train_accuracy = tf.keras.metrics.SparseCategoricalAccuracy(name='train_accuracy')\n",
        "valid_loss = tf.keras.metrics.Mean(name='valid_loss')\n",
        "valid_accuracy = tf.keras.metrics.SparseCategoricalAccuracy(name='valid_accuracy')"
      ],
      "metadata": {
        "id": "xqHQ3OwuPJNV"
      },
      "execution_count": 9,
      "outputs": []
    },
    {
      "cell_type": "code",
      "source": [
        "# 배치 생성 함수\n",
        "def get_batches(x, y, batch_size=32):\n",
        "    for i in range(int(x.shape[0] // batch_size)):\n",
        "        x_batch = x[i * batch_size: (i + 1) * batch_size]\n",
        "        y_batch = y[i * batch_size: (i + 1) * batch_size]\n",
        "        yield (np.asarray(x_batch), np.asarray(y_batch))"
      ],
      "metadata": {
        "id": "lefQqb9oPUcF"
      },
      "execution_count": 10,
      "outputs": []
    },
    {
      "cell_type": "code",
      "source": [
        "@tf.function\n",
        "def train_step(images, labels):\n",
        "    # GradientTape 적용\n",
        "    with tf.GradientTape() as tape:\n",
        "        # 예측\n",
        "        prediction = model(images, training=True)\n",
        "        # 손실\n",
        "        loss = loss_function(labels, prediction)\n",
        "    # 미분 (gradient) 값 계산\n",
        "    gradients = tape.gradient(loss, model.trainable_variables)\n",
        "    # optimizer 적용\n",
        "    optimizer.apply_gradients(zip(gradients, model.trainable_variables))\n",
        "\n",
        "    # loss, accuracy 계산\n",
        "    train_loss(loss)\n",
        "    train_accuracy(labels, prediction)\n",
        "\n",
        "@tf.function\n",
        "def valid_step(images, labels):\n",
        "    # 예측\n",
        "    prediction = model(images, training=False)\n",
        "    # 손실\n",
        "    loss = loss_function(labels, prediction)\n",
        "\n",
        "    # loss, accuracy 계산\n",
        "    valid_loss(loss)\n",
        "    valid_accuracy(labels, prediction)"
      ],
      "metadata": {
        "id": "wn8hxVloPWp5"
      },
      "execution_count": 11,
      "outputs": []
    },
    {
      "cell_type": "code",
      "source": [
        "# 초기화 코드\n",
        "train_loss.reset_states()\n",
        "train_accuracy.reset_states()\n",
        "valid_loss.reset_states()\n",
        "valid_accuracy.reset_states()\n",
        "\n",
        "# Epoch 반복\n",
        "for epoch in range(5):\n",
        "    # batch 별 순회\n",
        "    for images, labels in get_batches(x_train, y_train):\n",
        "        # train_step\n",
        "        train_step(images, labels)\n",
        "\n",
        "    for images, labels in get_batches(x_test, y_test):\n",
        "        # valid_step\n",
        "        valid_step(images, labels)\n",
        "\n",
        "    # 결과 출력\n",
        "    metric_template = 'epoch: {}, loss: {:.4f}, acc: {:.2f}%, val_loss: {:.4f}, val_acc: {:.2f}%'\n",
        "    print(metric_template.format(epoch+1, train_loss.result(), train_accuracy.result()*100,\n",
        "                                 valid_loss.result(), valid_accuracy.result()*100))"
      ],
      "metadata": {
        "colab": {
          "base_uri": "https://localhost:8080/"
        },
        "id": "hqY-Hj_IRD74",
        "outputId": "b31fb5e1-aba5-4bff-db29-38e1f149f037"
      },
      "execution_count": 12,
      "outputs": [
        {
          "output_type": "stream",
          "name": "stdout",
          "text": [
            "epoch: 1, loss: 0.2386, acc: 92.91%, val_loss: 0.1455, val_acc: 95.18%\n",
            "epoch: 2, loss: 0.1700, acc: 94.91%, val_loss: 0.1269, val_acc: 95.96%\n",
            "epoch: 3, loss: 0.1354, acc: 95.92%, val_loss: 0.1224, val_acc: 96.22%\n",
            "epoch: 4, loss: 0.1144, acc: 96.54%, val_loss: 0.1278, val_acc: 96.18%\n",
            "epoch: 5, loss: 0.0991, acc: 97.00%, val_loss: 0.1317, val_acc: 96.18%\n"
          ]
        }
      ]
    },
    {
      "cell_type": "code",
      "source": [],
      "metadata": {
        "id": "GAfyU8iySGI4"
      },
      "execution_count": null,
      "outputs": []
    }
  ]
}