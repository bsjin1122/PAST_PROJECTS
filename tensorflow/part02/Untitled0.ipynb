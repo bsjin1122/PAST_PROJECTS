{
  "nbformat": 4,
  "nbformat_minor": 0,
  "metadata": {
    "colab": {
      "provenance": [],
      "gpuType": "T4",
      "authorship_tag": "ABX9TyPAkYGJVoW03NVFOWclAVRn",
      "include_colab_link": true
    },
    "kernelspec": {
      "name": "python3",
      "display_name": "Python 3"
    },
    "language_info": {
      "name": "python"
    },
    "accelerator": "GPU"
  },
  "cells": [
    {
      "cell_type": "markdown",
      "metadata": {
        "id": "view-in-github",
        "colab_type": "text"
      },
      "source": [
        "<a href=\"https://colab.research.google.com/github/bsjin1122/deep-learning/blob/main/tensorflow/part02/Untitled0.ipynb\" target=\"_parent\"><img src=\"https://colab.research.google.com/assets/colab-badge.svg\" alt=\"Open In Colab\"/></a>"
      ]
    },
    {
      "cell_type": "code",
      "execution_count": 1,
      "metadata": {
        "id": "F9JmlGjHT50u",
        "colab": {
          "base_uri": "https://localhost:8080/"
        },
        "outputId": "cdc09604-0129-42ed-8c31-a88eb2d4c72a"
      },
      "outputs": [
        {
          "output_type": "stream",
          "name": "stdout",
          "text": [
            "True\n"
          ]
        }
      ],
      "source": [
        "import tensorflow as tf\n",
        "\n",
        "print(tf.executing_eagerly())"
      ]
    },
    {
      "cell_type": "code",
      "source": [
        "a = 1\n",
        "b = 2\n",
        "c = tf.math.add(a, b)\n",
        "print(c)\n",
        "c.numpy()"
      ],
      "metadata": {
        "id": "7S-JwWShU2bk",
        "colab": {
          "base_uri": "https://localhost:8080/"
        },
        "outputId": "4fe017ec-32f6-4c1a-93a4-aa8aeb851f5f"
      },
      "execution_count": 5,
      "outputs": [
        {
          "output_type": "stream",
          "name": "stdout",
          "text": [
            "tf.Tensor(3, shape=(), dtype=int32)\n"
          ]
        },
        {
          "output_type": "execute_result",
          "data": {
            "text/plain": [
              "3"
            ]
          },
          "metadata": {},
          "execution_count": 5
        }
      ]
    },
    {
      "cell_type": "code",
      "source": [
        "a = tf.constant(1)\n",
        "b = tf.constant(2)\n",
        "print(\"a:\",a)\n",
        "print(\"b:\",b) # 32비트 정수형임을 확인할 수 있다."
      ],
      "metadata": {
        "colab": {
          "base_uri": "https://localhost:8080/"
        },
        "id": "Dv5bfwmVRt6O",
        "outputId": "aa20a8dc-055d-4696-969e-393f559a338b"
      },
      "execution_count": 7,
      "outputs": [
        {
          "output_type": "stream",
          "name": "stdout",
          "text": [
            "a: tf.Tensor(1, shape=(), dtype=int32)\n",
            "b: tf.Tensor(2, shape=(), dtype=int32)\n"
          ]
        }
      ]
    },
    {
      "cell_type": "code",
      "source": [
        "# 랭크 확인\n",
        "print(tf.rank(a))"
      ],
      "metadata": {
        "colab": {
          "base_uri": "https://localhost:8080/"
        },
        "id": "ffK2uJ4oW5Qs",
        "outputId": "4caaf96b-5964-4b7b-9510-30cbe83d4d17"
      },
      "execution_count": 8,
      "outputs": [
        {
          "output_type": "stream",
          "name": "stdout",
          "text": [
            "tf.Tensor(0, shape=(), dtype=int32)\n"
          ]
        }
      ]
    },
    {
      "cell_type": "code",
      "source": [
        "# 자료형 변환\n",
        "a= tf.cast(a, tf.float32)\n",
        "b= tf.cast(b, tf.float32)\n",
        "print(a.dtype)\n",
        "print(b.dtype)"
      ],
      "metadata": {
        "colab": {
          "base_uri": "https://localhost:8080/"
        },
        "id": "MFE9ATJCW9_j",
        "outputId": "1fe2d0f4-2b94-4278-a245-21e9373c436c"
      },
      "execution_count": 10,
      "outputs": [
        {
          "output_type": "stream",
          "name": "stdout",
          "text": [
            "<dtype: 'float32'>\n",
            "<dtype: 'float32'>\n"
          ]
        }
      ]
    },
    {
      "cell_type": "code",
      "source": [
        "# 덧셈\n",
        "c = tf.math.add(a, b)\n",
        "print(\"result: \", c)\n",
        "print(\"rank: \", tf.rank(c))"
      ],
      "metadata": {
        "colab": {
          "base_uri": "https://localhost:8080/"
        },
        "id": "Utwh3Gp0XEkL",
        "outputId": "fd56e1c5-14ae-47fc-ce78-3616b95b6b54"
      },
      "execution_count": 11,
      "outputs": [
        {
          "output_type": "stream",
          "name": "stdout",
          "text": [
            "result:  tf.Tensor(3.0, shape=(), dtype=float32)\n",
            "rank:  tf.Tensor(0, shape=(), dtype=int32)\n"
          ]
        }
      ]
    },
    {
      "cell_type": "code",
      "source": [
        "# 뺄셈\n",
        "print(tf.math.subtract(a,b))"
      ],
      "metadata": {
        "colab": {
          "base_uri": "https://localhost:8080/"
        },
        "id": "xwkoqHKwXU38",
        "outputId": "7fb9dbc1-c981-4a0a-a370-19e35e4c1b67"
      },
      "execution_count": 18,
      "outputs": [
        {
          "output_type": "stream",
          "name": "stdout",
          "text": [
            "tf.Tensor(-1.0, shape=(), dtype=float32)\n"
          ]
        }
      ]
    },
    {
      "cell_type": "code",
      "source": [
        "# 곱셈\n",
        "print(tf.math.multiply(a,b))"
      ],
      "metadata": {
        "colab": {
          "base_uri": "https://localhost:8080/"
        },
        "id": "WBIAcq1RbhBG",
        "outputId": "3091fd08-9b81-4556-f78f-6ecb1812473f"
      },
      "execution_count": 19,
      "outputs": [
        {
          "output_type": "stream",
          "name": "stdout",
          "text": [
            "tf.Tensor(2.0, shape=(), dtype=float32)\n"
          ]
        }
      ]
    },
    {
      "cell_type": "code",
      "source": [
        "# 나눗셈\n",
        "print(tf.math.divide(a,b))"
      ],
      "metadata": {
        "colab": {
          "base_uri": "https://localhost:8080/"
        },
        "id": "NVIrBFznblTC",
        "outputId": "b115a85f-4428-477a-fbd6-c3614586199f"
      },
      "execution_count": 20,
      "outputs": [
        {
          "output_type": "stream",
          "name": "stdout",
          "text": [
            "tf.Tensor(0.5, shape=(), dtype=float32)\n"
          ]
        }
      ]
    },
    {
      "cell_type": "code",
      "source": [
        "# 나눗셈(나머지)\n",
        "print(tf.math.mod(a,b))"
      ],
      "metadata": {
        "colab": {
          "base_uri": "https://localhost:8080/"
        },
        "id": "tPFnQBrgbpwC",
        "outputId": "1c4e1454-665a-44da-8b59-27099f508a5d"
      },
      "execution_count": 21,
      "outputs": [
        {
          "output_type": "stream",
          "name": "stdout",
          "text": [
            "tf.Tensor(1.0, shape=(), dtype=float32)\n"
          ]
        }
      ]
    },
    {
      "cell_type": "code",
      "source": [
        "# 나눗셈(몫)\n",
        "print(tf.math.floordiv(a,b))"
      ],
      "metadata": {
        "colab": {
          "base_uri": "https://localhost:8080/"
        },
        "id": "JYPhT7r0bJpX",
        "outputId": "c0adab76-024f-4e0f-c1d0-c4c1b222563d"
      },
      "execution_count": 22,
      "outputs": [
        {
          "output_type": "stream",
          "name": "stdout",
          "text": [
            "tf.Tensor(0.0, shape=(), dtype=float32)\n"
          ]
        }
      ]
    },
    {
      "cell_type": "code",
      "source": [
        "import tensorflow as tf\n",
        "import numpy as np\n",
        "\n",
        "# 1차원 배열 정의\n",
        "py_list = [10., 20., 30.] #python list\n",
        "num_arr = np.array([10., 10., 10.]) # 넘파이 배열 활용\n",
        "\n",
        "# 텐서 변환\n",
        "vec1 = tf.constant(py_list, dtype=tf.float32)\n",
        "vec2 = tf.constant(num_arr, dtype=tf.float32)\n",
        "\n",
        "print(\"vec1: \", vec1)\n",
        "print(\"vec2: \", vec2)"
      ],
      "metadata": {
        "colab": {
          "base_uri": "https://localhost:8080/"
        },
        "id": "7Hk_p59AbB_L",
        "outputId": "ed22d2a4-42b6-45d6-c17f-28526ada350d"
      },
      "execution_count": 25,
      "outputs": [
        {
          "output_type": "stream",
          "name": "stdout",
          "text": [
            "vec1:  tf.Tensor([10. 20. 30.], shape=(3,), dtype=float32)\n",
            "vec2:  tf.Tensor([10. 10. 10.], shape=(3,), dtype=float32)\n"
          ]
        }
      ]
    },
    {
      "cell_type": "code",
      "source": [
        "# shape 속성은 (3,) 과 같이 1개의 축에 대해서만 크기가 표현. 1개의 축에 3개의 원소가 있다는 뜻이다.\n",
        "# 텐서로 변환된 뒤에도 원본 배열의 실수형 속성이 그대로 유지."
      ],
      "metadata": {
        "id": "vFwt3Bofgwm2"
      },
      "execution_count": 26,
      "outputs": []
    },
    {
      "cell_type": "code",
      "source": [
        "#랭크 확인\n",
        "print(tf.rank(vec1))\n",
        "print(tf.rank(vec2))"
      ],
      "metadata": {
        "colab": {
          "base_uri": "https://localhost:8080/"
        },
        "id": "6K6LjLDKbAd0",
        "outputId": "1af01a86-66b9-4efa-b35a-71d22732c635"
      },
      "execution_count": 27,
      "outputs": [
        {
          "output_type": "stream",
          "name": "stdout",
          "text": [
            "tf.Tensor(1, shape=(), dtype=int32)\n",
            "tf.Tensor(1, shape=(), dtype=int32)\n"
          ]
        }
      ]
    },
    {
      "cell_type": "code",
      "source": [
        "#덧셈함수\n",
        "add1 = tf.math.add(vec1, vec2)\n",
        "print(\"result:\", add1)\n",
        "print(\"rank: \", tf.rank(add1))"
      ],
      "metadata": {
        "colab": {
          "base_uri": "https://localhost:8080/"
        },
        "id": "F-u4V3EPa_CT",
        "outputId": "918a6189-c445-486b-b471-d841388ae293"
      },
      "execution_count": 29,
      "outputs": [
        {
          "output_type": "stream",
          "name": "stdout",
          "text": [
            "result: tf.Tensor([20. 30. 40.], shape=(3,), dtype=float32)\n",
            "rank:  tf.Tensor(1, shape=(), dtype=int32)\n"
          ]
        }
      ]
    },
    {
      "cell_type": "code",
      "source": [
        "# 덧셈 연산자\n",
        "add2 = vec1 + vec2\n",
        "print(\"result: \", add2)\n",
        "print(\"rank: \", tf.rank(add2))"
      ],
      "metadata": {
        "colab": {
          "base_uri": "https://localhost:8080/"
        },
        "id": "0Vir2npSa8TB",
        "outputId": "e8faa534-430d-4582-cd7c-385b99f4d0bc"
      },
      "execution_count": 30,
      "outputs": [
        {
          "output_type": "stream",
          "name": "stdout",
          "text": [
            "result:  tf.Tensor([20. 30. 40.], shape=(3,), dtype=float32)\n",
            "rank:  tf.Tensor(1, shape=(), dtype=int32)\n"
          ]
        }
      ]
    },
    {
      "cell_type": "code",
      "source": [
        "# tf.math 모듈 함수\n",
        "print(tf.math.subtract(vec1, vec2))\n",
        "print(tf.math.multiply(vec1, vec2))\n",
        "print(tf.math.divide(vec1, vec2))\n",
        "print(tf.math.mod(vec1, vec2))\n",
        "print(tf.math.floordiv(vec1, vec2))"
      ],
      "metadata": {
        "colab": {
          "base_uri": "https://localhost:8080/"
        },
        "id": "y2LHbynehpil",
        "outputId": "eb45982f-fb7d-4a30-a4c3-025e4fd50ab9"
      },
      "execution_count": 31,
      "outputs": [
        {
          "output_type": "stream",
          "name": "stdout",
          "text": [
            "tf.Tensor([ 0. 10. 20.], shape=(3,), dtype=float32)\n",
            "tf.Tensor([100. 200. 300.], shape=(3,), dtype=float32)\n",
            "tf.Tensor([1. 2. 3.], shape=(3,), dtype=float32)\n",
            "tf.Tensor([0. 0. 0.], shape=(3,), dtype=float32)\n",
            "tf.Tensor([1. 2. 3.], shape=(3,), dtype=float32)\n"
          ]
        }
      ]
    },
    {
      "cell_type": "code",
      "source": [
        "# 파이썬 연산자\n",
        "print(vec1 - vec2)\n",
        "print(vec1 * vec2)\n",
        "print(vec1 / vec2)\n",
        "print(vec1 % vec2)\n",
        "print(vec1 // vec2)"
      ],
      "metadata": {
        "colab": {
          "base_uri": "https://localhost:8080/"
        },
        "id": "ogguRXTsh-VM",
        "outputId": "1a788ad7-d7b4-4c1f-f50c-ee3d6b5d95c6"
      },
      "execution_count": 32,
      "outputs": [
        {
          "output_type": "stream",
          "name": "stdout",
          "text": [
            "tf.Tensor([ 0. 10. 20.], shape=(3,), dtype=float32)\n",
            "tf.Tensor([100. 200. 300.], shape=(3,), dtype=float32)\n",
            "tf.Tensor([1. 2. 3.], shape=(3,), dtype=float32)\n",
            "tf.Tensor([0. 0. 0.], shape=(3,), dtype=float32)\n",
            "tf.Tensor([1. 2. 3.], shape=(3,), dtype=float32)\n"
          ]
        }
      ]
    },
    {
      "cell_type": "code",
      "source": [
        "# 합계 구하기\n",
        "print ( tf.reduce_sum(vec1) )\n",
        "print ( tf.reduce_sum(vec2) )"
      ],
      "metadata": {
        "colab": {
          "base_uri": "https://localhost:8080/"
        },
        "id": "49yctgTdiAq8",
        "outputId": "8ad47c83-91a4-42f0-ff48-512bcb278eba"
      },
      "execution_count": 33,
      "outputs": [
        {
          "output_type": "stream",
          "name": "stdout",
          "text": [
            "tf.Tensor(60.0, shape=(), dtype=float32)\n",
            "tf.Tensor(30.0, shape=(), dtype=float32)\n"
          ]
        }
      ]
    },
    {
      "cell_type": "code",
      "source": [
        "# 거듭제곱\n",
        "print( tf.math.square(vec1) )"
      ],
      "metadata": {
        "colab": {
          "base_uri": "https://localhost:8080/"
        },
        "id": "xVchJNbWiQcc",
        "outputId": "fc79fde3-eecd-424d-d79b-b3fc9fde9062"
      },
      "execution_count": 34,
      "outputs": [
        {
          "output_type": "stream",
          "name": "stdout",
          "text": [
            "tf.Tensor([100. 400. 900.], shape=(3,), dtype=float32)\n"
          ]
        }
      ]
    },
    {
      "cell_type": "code",
      "source": [
        "# 거듭제곱 (파이썬 연산자)\n",
        "print( vec1**2 )"
      ],
      "metadata": {
        "colab": {
          "base_uri": "https://localhost:8080/"
        },
        "id": "vl-kuf13iSMs",
        "outputId": "e0cd3111-2952-437a-d429-98725f34fda2"
      },
      "execution_count": 35,
      "outputs": [
        {
          "output_type": "stream",
          "name": "stdout",
          "text": [
            "tf.Tensor([ 99.99999 400.      899.99994], shape=(3,), dtype=float32)\n"
          ]
        }
      ]
    },
    {
      "cell_type": "code",
      "source": [
        "# 브로드캐스팅 연산\n",
        "print (vec1 + 1)\n",
        "# 백터의 형태를 유지한 상태에서 각 원소에 1을 더하게 된다."
      ],
      "metadata": {
        "colab": {
          "base_uri": "https://localhost:8080/"
        },
        "id": "5Wzj5XrCiVOo",
        "outputId": "c9694eba-1666-4d5d-c4b4-dbfbb2b94157"
      },
      "execution_count": 36,
      "outputs": [
        {
          "output_type": "stream",
          "name": "stdout",
          "text": [
            "tf.Tensor([11. 21. 31.], shape=(3,), dtype=float32)\n"
          ]
        }
      ]
    },
    {
      "cell_type": "code",
      "source": [],
      "metadata": {
        "id": "8raTcrEuihiI"
      },
      "execution_count": null,
      "outputs": []
    }
  ]
}