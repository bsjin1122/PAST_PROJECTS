{
  "nbformat": 4,
  "nbformat_minor": 0,
  "metadata": {
    "colab": {
      "provenance": [],
      "authorship_tag": "ABX9TyOHylPTu/hAWFcK+8ikg90M",
      "include_colab_link": true
    },
    "kernelspec": {
      "name": "python3",
      "display_name": "Python 3"
    },
    "language_info": {
      "name": "python"
    }
  },
  "cells": [
    {
      "cell_type": "markdown",
      "metadata": {
        "id": "view-in-github",
        "colab_type": "text"
      },
      "source": [
        "<a href=\"https://colab.research.google.com/github/bsjin1122/deep-learning/blob/main/03_keras/tf_data_dataset.ipynb\" target=\"_parent\"><img src=\"https://colab.research.google.com/assets/colab-badge.svg\" alt=\"Open In Colab\"/></a>"
      ]
    },
    {
      "cell_type": "markdown",
      "source": [
        "# tf.data.Dataset\n",
        "딥러닝 모델의 데이터셋 구축을 보다 편리하고 체계적이게 만들어주는 유틸 클래스이다.\n",
        "- Dataset클래스가 제공해 주는 다양한 기능들을 활용하여 윈도우, 배치, 셔플 등의 다양한 기능들을 손쉽게 구성할 수 있으며 편리하다\n",
        "- Dataset 클래스 메소드의 기능을 잘 이해하고 있지 않으면, 의도한대로 데이터셋 구성을 구현할 수 없어서 세부 기능과 역할에 대해 숙지하는 것이 바람직하다."
      ],
      "metadata": {
        "id": "gtXtQ_LmXRsC"
      }
    },
    {
      "cell_type": "code",
      "source": [
        "import numpy as np\n",
        "import tensorflow as tf"
      ],
      "metadata": {
        "id": "0-sIDzOTXw8N"
      },
      "execution_count": 3,
      "outputs": []
    },
    {
      "cell_type": "markdown",
      "source": [
        "# as_numpy_iterator\n",
        "생성된 Dataset 클래스를 넘파이 배열로 반환한다.\n",
        "- Dataset 클래스는 모든 요소가 텐서로 출력되지만, 넘파이 배열로 변환하면 요소 출력이 가능하다."
      ],
      "metadata": {
        "id": "9WmAn3QoYBFv"
      }
    },
    {
      "cell_type": "code",
      "source": [
        "dataset = tf.data.Dataset.range(10)\n",
        "\n",
        "list(dataset.as_numpy_iterator())"
      ],
      "metadata": {
        "colab": {
          "base_uri": "https://localhost:8080/"
        },
        "id": "PyY9Dmf4X-WW",
        "outputId": "294c1622-a697-4508-9dc0-affc5c04256f"
      },
      "execution_count": 4,
      "outputs": [
        {
          "output_type": "execute_result",
          "data": {
            "text/plain": [
              "[0, 1, 2, 3, 4, 5, 6, 7, 8, 9]"
            ]
          },
          "metadata": {},
          "execution_count": 4
        }
      ]
    },
    {
      "cell_type": "markdown",
      "source": [
        "# apply\n",
        "- 사용자가 정의한 변환 함수를 Dataset 클래스에 적용할 수 있다."
      ],
      "metadata": {
        "id": "Am4di3LDYUco"
      }
    },
    {
      "cell_type": "code",
      "source": [
        "dataset = tf.data.Dataset.range(10)\n",
        "\n",
        "def filter_five(x):\n",
        "    return x.filter(lambda x: x < 5)\n",
        "\n",
        "list(dataset.apply(filter_five).as_numpy_iterator())"
      ],
      "metadata": {
        "colab": {
          "base_uri": "https://localhost:8080/"
        },
        "id": "K2W0HpVuYE5S",
        "outputId": "b3f04629-53ec-4e76-cb75-01f16eb5c228"
      },
      "execution_count": 5,
      "outputs": [
        {
          "output_type": "execute_result",
          "data": {
            "text/plain": [
              "[0, 1, 2, 3, 4]"
            ]
          },
          "metadata": {},
          "execution_count": 5
        }
      ]
    },
    {
      "cell_type": "markdown",
      "source": [
        "# from_tensor_slices\n",
        "list혹은 numpy 배열을 Dataset 클래스로 변환하는 메소드이다.\n",
        "- Dataset 클래스의 유용한 기능을 사용하기 위해서는, Dataset 클래스로 변환해야 사용 가능하다.\n",
        "from_tensor_sclices 로 변환 후에는 TensorSliceDataset으로 타입이 변환됨을 확인할 수가 있다."
      ],
      "metadata": {
        "id": "TKb4vfWIYgyB"
      }
    },
    {
      "cell_type": "code",
      "source": [
        "ds = tf.data.Dataset.from_tensor_slices([1, 2, 3, 4, 5])\n",
        "print(type(ds))\n",
        "list(ds.as_numpy_iterator())"
      ],
      "metadata": {
        "colab": {
          "base_uri": "https://localhost:8080/"
        },
        "id": "h0WvOoFxYcrR",
        "outputId": "32fb1689-a545-477d-cbfa-7f6a88c003c8"
      },
      "execution_count": 6,
      "outputs": [
        {
          "output_type": "stream",
          "name": "stdout",
          "text": [
            "<class 'tensorflow.python.data.ops.from_tensor_slices_op._TensorSliceDataset'>\n"
          ]
        },
        {
          "output_type": "execute_result",
          "data": {
            "text/plain": [
              "[1, 2, 3, 4, 5]"
            ]
          },
          "metadata": {},
          "execution_count": 6
        }
      ]
    },
    {
      "cell_type": "markdown",
      "source": [
        "# iteration\n",
        "반복문으로 요소들 출력 가능."
      ],
      "metadata": {
        "id": "0NytH66XZA0H"
      }
    },
    {
      "cell_type": "code",
      "source": [
        "ds = tf.data.Dataset.from_tensor_slices([1, 2, 3, 4, 5])\n",
        "\n",
        "for d in ds:\n",
        "    print(d)"
      ],
      "metadata": {
        "colab": {
          "base_uri": "https://localhost:8080/"
        },
        "id": "Z4A58JIdY31u",
        "outputId": "6d78215f-8d63-488c-dd4d-dff1c4c35505"
      },
      "execution_count": 7,
      "outputs": [
        {
          "output_type": "stream",
          "name": "stdout",
          "text": [
            "tf.Tensor(1, shape=(), dtype=int32)\n",
            "tf.Tensor(2, shape=(), dtype=int32)\n",
            "tf.Tensor(3, shape=(), dtype=int32)\n",
            "tf.Tensor(4, shape=(), dtype=int32)\n",
            "tf.Tensor(5, shape=(), dtype=int32)\n"
          ]
        }
      ]
    },
    {
      "cell_type": "markdown",
      "source": [
        "# range"
      ],
      "metadata": {
        "id": "XesaQipIZNVi"
      }
    },
    {
      "cell_type": "code",
      "source": [
        "ds = tf.data.Dataset.range(1, 10, 2)\n",
        "\n",
        "for d in ds:\n",
        "    print(d)"
      ],
      "metadata": {
        "colab": {
          "base_uri": "https://localhost:8080/"
        },
        "id": "SPAiGhqkZLuH",
        "outputId": "fa1c1b6d-f8cf-4381-9721-d71f9dd76424"
      },
      "execution_count": 8,
      "outputs": [
        {
          "output_type": "stream",
          "name": "stdout",
          "text": [
            "tf.Tensor(1, shape=(), dtype=int64)\n",
            "tf.Tensor(3, shape=(), dtype=int64)\n",
            "tf.Tensor(5, shape=(), dtype=int64)\n",
            "tf.Tensor(7, shape=(), dtype=int64)\n",
            "tf.Tensor(9, shape=(), dtype=int64)\n"
          ]
        }
      ]
    },
    {
      "cell_type": "markdown",
      "source": [
        "# batch\n",
        "배치 크기를 batch 메소드에 지정하며 배치 크기만큼의 요소를 하나의 배치로 구성하여 반환\n",
        "- 총 8개 요소 생성, 배치 크기 3개로 구성, -> 3개의 요소가 1개의 배치로 구성된 결과를 출력\n"
      ],
      "metadata": {
        "id": "r64MGuo7ZX0v"
      }
    },
    {
      "cell_type": "code",
      "source": [
        "ds = tf.data.Dataset.range(8)\n",
        "for d in ds.batch(3):\n",
        "    print(d)"
      ],
      "metadata": {
        "colab": {
          "base_uri": "https://localhost:8080/"
        },
        "id": "sNPupdSpZOi7",
        "outputId": "b3f08ee2-6bf0-4c3b-8f52-b45070deff15"
      },
      "execution_count": 9,
      "outputs": [
        {
          "output_type": "stream",
          "name": "stdout",
          "text": [
            "tf.Tensor([0 1 2], shape=(3,), dtype=int64)\n",
            "tf.Tensor([3 4 5], shape=(3,), dtype=int64)\n",
            "tf.Tensor([6 7], shape=(2,), dtype=int64)\n"
          ]
        }
      ]
    },
    {
      "cell_type": "markdown",
      "source": [
        "# drop_remainder\n",
        "배치 구성 시 잔여 요소의 개수가 배치 크기보다 작다면 생성하지 않는다.\n",
        "- 총 8개의 요소를 생성, 3개의 요소를 1개의 배치로 묶는데 3개의 요소를 2개의 배치로 묶고 난 후 잔여 요소의 개수가 2개인데 출력하지 않고 버려졌다."
      ],
      "metadata": {
        "id": "-IAAgxNwZnzR"
      }
    },
    {
      "cell_type": "code",
      "source": [
        "ds = tf.data.Dataset.range(8)\n",
        "for d in ds.batch(3, drop_remainder=True):\n",
        "    print(d)"
      ],
      "metadata": {
        "colab": {
          "base_uri": "https://localhost:8080/"
        },
        "id": "GL-2griwZhJ7",
        "outputId": "575f1bc5-e4d7-4b68-b16f-c162eacd1221"
      },
      "execution_count": 10,
      "outputs": [
        {
          "output_type": "stream",
          "name": "stdout",
          "text": [
            "tf.Tensor([0 1 2], shape=(3,), dtype=int64)\n",
            "tf.Tensor([3 4 5], shape=(3,), dtype=int64)\n"
          ]
        }
      ]
    },
    {
      "cell_type": "markdown",
      "source": [
        "# window\n",
        "- 시계열 데이터셋 구축 시 윈도우 구현\n",
        "- 윈도우: 위니도우 크기만큼의 데이터를 하나로 묶어 생성하고자 할 때 사용된다."
      ],
      "metadata": {
        "id": "ehB4-VTKZ6G4"
      }
    },
    {
      "cell_type": "code",
      "source": [
        "ds = tf.data.Dataset.range(10)\n",
        "ds = ds.window(5, shift=1, drop_remainder=False)\n",
        "for d in ds:\n",
        "    print(list(d.as_numpy_iterator()))"
      ],
      "metadata": {
        "colab": {
          "base_uri": "https://localhost:8080/"
        },
        "id": "sZXycZe5Z4GE",
        "outputId": "3f568c5b-5774-4b62-8df5-f7011c790656"
      },
      "execution_count": 11,
      "outputs": [
        {
          "output_type": "stream",
          "name": "stdout",
          "text": [
            "[0, 1, 2, 3, 4]\n",
            "[1, 2, 3, 4, 5]\n",
            "[2, 3, 4, 5, 6]\n",
            "[3, 4, 5, 6, 7]\n",
            "[4, 5, 6, 7, 8]\n",
            "[5, 6, 7, 8, 9]\n",
            "[6, 7, 8, 9]\n",
            "[7, 8, 9]\n",
            "[8, 9]\n",
            "[9]\n"
          ]
        }
      ]
    },
    {
      "cell_type": "markdown",
      "source": [
        "딥러닝 모델에 데이터셋 주입시 크기가 일정하게 맞춰있지 않으며 에러가 발생할 수 있으므로, drop_remainder = True로 설정하는 것이 일반적이다."
      ],
      "metadata": {
        "id": "Y5IBuumeaHQ-"
      }
    },
    {
      "cell_type": "code",
      "source": [
        "ds = tf.data.Dataset.range(10)\n",
        "ds = ds.window(5, shift=1, drop_remainder=True)\n",
        "for d in ds:\n",
        "    print(list(d.as_numpy_iterator()))"
      ],
      "metadata": {
        "colab": {
          "base_uri": "https://localhost:8080/"
        },
        "id": "1C6gZngEaFCS",
        "outputId": "30ba6919-0366-4796-9e4b-1d7e06fcec8b"
      },
      "execution_count": 12,
      "outputs": [
        {
          "output_type": "stream",
          "name": "stdout",
          "text": [
            "[0, 1, 2, 3, 4]\n",
            "[1, 2, 3, 4, 5]\n",
            "[2, 3, 4, 5, 6]\n",
            "[3, 4, 5, 6, 7]\n",
            "[4, 5, 6, 7, 8]\n",
            "[5, 6, 7, 8, 9]\n"
          ]
        }
      ]
    },
    {
      "cell_type": "code",
      "source": [
        "ds = tf.data.Dataset.range(10)\n",
        "ds = ds.window(5, shift=2, drop_remainder=True)\n",
        "for d in ds:\n",
        "    print(list(d.as_numpy_iterator())) #윈도우 구성 시 2칸씩 건너뛰어 생성"
      ],
      "metadata": {
        "colab": {
          "base_uri": "https://localhost:8080/"
        },
        "id": "QNh49xQSaPIh",
        "outputId": "35b41619-8cc9-49b1-a16e-82d8178ff98d"
      },
      "execution_count": 13,
      "outputs": [
        {
          "output_type": "stream",
          "name": "stdout",
          "text": [
            "[0, 1, 2, 3, 4]\n",
            "[2, 3, 4, 5, 6]\n",
            "[4, 5, 6, 7, 8]\n"
          ]
        }
      ]
    },
    {
      "cell_type": "markdown",
      "source": [
        "# flat_map\n",
        "map 함수를 Dataset 클래스에 적용하여 flatten한 결과를 반환한다.\n",
        "flatten한 결과를 반환하기 때문에, map함수를 적용한 결과가 2차원 배열이라 하더라도 결과는 1차원으로 flatten되어 반환한다.\n"
      ],
      "metadata": {
        "id": "ECox0_NqaTXu"
      }
    },
    {
      "cell_type": "code",
      "source": [
        "ds = tf.data.Dataset.range(10)\n",
        "ds = ds.window(5, shift=1, drop_remainder=True)\n",
        "# ds = ds.flat_map(lambda w: w.batch(3))\n",
        "for d in ds:\n",
        "    print(d)"
      ],
      "metadata": {
        "colab": {
          "base_uri": "https://localhost:8080/"
        },
        "id": "cCMSBBwjaShF",
        "outputId": "4679c6e5-de16-41fd-d46a-32f27e570139"
      },
      "execution_count": 14,
      "outputs": [
        {
          "output_type": "stream",
          "name": "stdout",
          "text": [
            "<_VariantDataset element_spec=TensorSpec(shape=(), dtype=tf.int64, name=None)>\n",
            "<_VariantDataset element_spec=TensorSpec(shape=(), dtype=tf.int64, name=None)>\n",
            "<_VariantDataset element_spec=TensorSpec(shape=(), dtype=tf.int64, name=None)>\n",
            "<_VariantDataset element_spec=TensorSpec(shape=(), dtype=tf.int64, name=None)>\n",
            "<_VariantDataset element_spec=TensorSpec(shape=(), dtype=tf.int64, name=None)>\n",
            "<_VariantDataset element_spec=TensorSpec(shape=(), dtype=tf.int64, name=None)>\n"
          ]
        }
      ]
    },
    {
      "cell_type": "code",
      "source": [
        "ds = tf.data.Dataset.range(10)\n",
        "ds = ds.window(5, shift=1, drop_remainder=True)\n",
        "ds = ds.flat_map(lambda w: w.batch(5))\n",
        "for d in ds:\n",
        "    print(d)"
      ],
      "metadata": {
        "colab": {
          "base_uri": "https://localhost:8080/"
        },
        "id": "jEO6ahFEagpL",
        "outputId": "ea9bdf6e-2816-4c44-c599-c0817112b5e5"
      },
      "execution_count": 15,
      "outputs": [
        {
          "output_type": "stream",
          "name": "stdout",
          "text": [
            "tf.Tensor([0 1 2 3 4], shape=(5,), dtype=int64)\n",
            "tf.Tensor([1 2 3 4 5], shape=(5,), dtype=int64)\n",
            "tf.Tensor([2 3 4 5 6], shape=(5,), dtype=int64)\n",
            "tf.Tensor([3 4 5 6 7], shape=(5,), dtype=int64)\n",
            "tf.Tensor([4 5 6 7 8], shape=(5,), dtype=int64)\n",
            "tf.Tensor([5 6 7 8 9], shape=(5,), dtype=int64)\n"
          ]
        }
      ]
    },
    {
      "cell_type": "markdown",
      "source": [
        "# shuffle\n",
        "- 데이터셋을 무작위로 섞는다."
      ],
      "metadata": {
        "id": "95jRG1qAao2p"
      }
    },
    {
      "cell_type": "code",
      "source": [
        "# shuffle을 해주지 않은 경우\n",
        "ds = tf.data.Dataset.from_tensor_slices(np.arange(10))#.shuffle()\n",
        "\n",
        "for d in ds:\n",
        "    print(d)"
      ],
      "metadata": {
        "colab": {
          "base_uri": "https://localhost:8080/"
        },
        "id": "Lgb9Ofk_aiIS",
        "outputId": "f7b3c835-0998-42a4-f105-149b78099b85"
      },
      "execution_count": 16,
      "outputs": [
        {
          "output_type": "stream",
          "name": "stdout",
          "text": [
            "tf.Tensor(0, shape=(), dtype=int64)\n",
            "tf.Tensor(1, shape=(), dtype=int64)\n",
            "tf.Tensor(2, shape=(), dtype=int64)\n",
            "tf.Tensor(3, shape=(), dtype=int64)\n",
            "tf.Tensor(4, shape=(), dtype=int64)\n",
            "tf.Tensor(5, shape=(), dtype=int64)\n",
            "tf.Tensor(6, shape=(), dtype=int64)\n",
            "tf.Tensor(7, shape=(), dtype=int64)\n",
            "tf.Tensor(8, shape=(), dtype=int64)\n",
            "tf.Tensor(9, shape=(), dtype=int64)\n"
          ]
        }
      ]
    },
    {
      "cell_type": "code",
      "source": [
        "# shuffle 설정\n",
        "ds = tf.data.Dataset.from_tensor_slices(np.arange(10)).shuffle(buffer_size=5)\n",
        "for d in ds:\n",
        "    print(d)"
      ],
      "metadata": {
        "colab": {
          "base_uri": "https://localhost:8080/"
        },
        "id": "gEARjKfFatbO",
        "outputId": "ed911a61-7cea-4789-f104-9027c2196c18"
      },
      "execution_count": 17,
      "outputs": [
        {
          "output_type": "stream",
          "name": "stdout",
          "text": [
            "tf.Tensor(1, shape=(), dtype=int64)\n",
            "tf.Tensor(3, shape=(), dtype=int64)\n",
            "tf.Tensor(0, shape=(), dtype=int64)\n",
            "tf.Tensor(4, shape=(), dtype=int64)\n",
            "tf.Tensor(7, shape=(), dtype=int64)\n",
            "tf.Tensor(8, shape=(), dtype=int64)\n",
            "tf.Tensor(2, shape=(), dtype=int64)\n",
            "tf.Tensor(9, shape=(), dtype=int64)\n",
            "tf.Tensor(6, shape=(), dtype=int64)\n",
            "tf.Tensor(5, shape=(), dtype=int64)\n"
          ]
        }
      ]
    },
    {
      "cell_type": "markdown",
      "source": [
        "# map"
      ],
      "metadata": {
        "id": "LU_cJHmfawFv"
      }
    },
    {
      "cell_type": "code",
      "source": [
        "window_size=5\n",
        "\n",
        "ds = tf.data.Dataset.range(10)\n",
        "ds = ds.window(window_size, shift=1, drop_remainder=True)\n",
        "ds = ds.flat_map(lambda w: w.batch(window_size))\n",
        "ds = ds.shuffle(10)\n",
        "\n",
        "# 첫 4개와 마지막 1개를 분리\n",
        "ds = ds.map(lambda x: (x[:-2], x[-2:]))\n",
        "for x, y in ds:\n",
        "    print('train set: {}'.format(x))\n",
        "    print('label set: {}'.format(y))\n",
        "    print('==='*10)"
      ],
      "metadata": {
        "colab": {
          "base_uri": "https://localhost:8080/"
        },
        "id": "fQrzQLLxaurS",
        "outputId": "8296d942-e1d1-433a-f14c-32ff3f596918"
      },
      "execution_count": 18,
      "outputs": [
        {
          "output_type": "stream",
          "name": "stdout",
          "text": [
            "train set: [0 1 2]\n",
            "label set: [3 4]\n",
            "==============================\n",
            "train set: [4 5 6]\n",
            "label set: [7 8]\n",
            "==============================\n",
            "train set: [2 3 4]\n",
            "label set: [5 6]\n",
            "==============================\n",
            "train set: [3 4 5]\n",
            "label set: [6 7]\n",
            "==============================\n",
            "train set: [1 2 3]\n",
            "label set: [4 5]\n",
            "==============================\n",
            "train set: [5 6 7]\n",
            "label set: [8 9]\n",
            "==============================\n"
          ]
        }
      ]
    }
  ]
}